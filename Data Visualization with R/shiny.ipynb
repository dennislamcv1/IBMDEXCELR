{
 "cells": [
  {
   "cell_type": "code",
   "execution_count": null,
   "metadata": {},
   "outputs": [],
   "source": [
    "import pandas as pd\n",
    "import streamlit as st\n",
    "import matplotlib.pyplot as plt\n",
    "import matplotlib.patches as mpatches\n",
    "import seaborn as sns\n",
    "\n",
    "import plotly.express as px\n",
    "\n"
   ]
  },
  {
   "cell_type": "code",
   "execution_count": null,
   "metadata": {},
   "outputs": [],
   "source": [
    "st.title(\"Trends in Demographics and Income\")\n",
    "st.text(\"Explore the difference between people who earn less than 50K and more than 50K\")"
   ]
  },
  {
   "cell_type": "code",
   "execution_count": null,
   "metadata": {},
   "outputs": [],
   "source": [
    "df = pd.read_csv(\"shiny.csv\")\n",
    "\n",
    "#df.head()"
   ]
  },
  {
   "cell_type": "code",
   "execution_count": null,
   "metadata": {},
   "outputs": [],
   "source": [
    "st.header(\"UCI Adult Dataset\")\n",
    "st.write(df.head())"
   ]
  },
  {
   "cell_type": "code",
   "execution_count": null,
   "metadata": {},
   "outputs": [],
   "source": [
    "#df[\"native_country\"].unique()"
   ]
  },
  {
   "cell_type": "code",
   "execution_count": null,
   "metadata": {},
   "outputs": [],
   "source": [
    "country = ['United-States', 'Mexico', 'Greece', 'Vietnam', 'China',\n",
    "       'Taiwan', 'India', 'Philippines', 'Trinadad&Tobago', 'Canada',\n",
    "       'South', 'Holand-Netherlands', 'Puerto-Rico', 'Poland', 'Iran',\n",
    "       'England', 'Germany', 'Italy', 'Japan', 'Hong', 'Honduras', 'Cuba',\n",
    "       'Ireland', 'Cambodia', 'Peru', 'Nicaragua', 'Dominican-Republic',\n",
    "       'Haiti', 'El-Salvador', 'Hungary', 'Columbia', 'Guatemala',\n",
    "       'Jamaica', 'Ecuador', 'France', 'Yugoslavia', 'Scotland',\n",
    "       'Portugal', 'Laos', 'Thailand', 'Outlying-US(Guam-USVI-etc)']\n",
    "\n",
    "st.selectbox(\"Country:\", options=country)"
   ]
  },
  {
   "cell_type": "code",
   "execution_count": null,
   "metadata": {},
   "outputs": [],
   "source": [
    "#st.text(\"Select a continuous variable and graph type (histogram or boxplot) to view on the right\")\n",
    "st.write(\"**Select a continuous variable and graph type (histogram or boxplot) to view on the right**\")\n",
    "\n",
    "continuous = st.radio(\"Continuous\", (\"age\",\"hours per week\"))\n",
    "\n",
    "graph1 = st.radio(\"Graph:\", (\"Histogram\",\"Boxplot\"))"
   ]
  },
  {
   "cell_type": "code",
   "execution_count": null,
   "metadata": {},
   "outputs": [],
   "source": [
    "# fig, ax = plt.subplots(1,2, sharex=False, figsize=(16,5))\n",
    "\n",
    "# sns.histplot(x=\"age\", data=df, hue_order=df.income, ax=ax[0])\n",
    "# ax[0].set_title('Title of the first chart')\n",
    "\n",
    "# sns.histplot(x=\"hours_per_week\", data=df, hue_order=df.income, ax=ax[1])\n",
    "# ax[1].set_title('Title of the second chart')\n",
    "\n",
    "# plt.show()"
   ]
  },
  {
   "cell_type": "code",
   "execution_count": null,
   "metadata": {},
   "outputs": [],
   "source": [
    "g = sns.FacetGrid(data=df, col=\"income\", height=5, aspect=1)\n",
    "g.map(plt.hist, \"age\")\n",
    "plt.suptitle(\"Trend of Age\", x=0.1, y=1.1, fontsize=30)\n",
    "plt.show()\n",
    "st.pyplot(g)"
   ]
  },
  {
   "cell_type": "code",
   "execution_count": null,
   "metadata": {},
   "outputs": [],
   "source": [
    "g = sns.FacetGrid(data=df, col=\"income\", height=5, aspect=1)\n",
    "g.map(plt.hist, \"hours_per_week\")\n",
    "plt.suptitle(\"Trend of Hours Per Week\", x=0.2, y=1.1, fontsize=30)\n",
    "plt.show()\n",
    "st.pyplot(g)"
   ]
  },
  {
   "cell_type": "code",
   "execution_count": null,
   "metadata": {},
   "outputs": [],
   "source": [
    "# fighist1 = px.histogram(data_frame=df, x=\"age\", title=\"Trend of Age\")\n",
    "\n",
    "# fighist1.show()\n",
    "\n",
    "# fighist2 = px.histogram(data_frame=df, x=\"hours_per_week\", title=\"Trend of Hours Per Week\")\n",
    "\n",
    "# fighist2.show()\n"
   ]
  },
  {
   "cell_type": "code",
   "execution_count": null,
   "metadata": {},
   "outputs": [],
   "source": [
    "# fighist1 = px.histogram(data_frame=df, x=\"age\", title=\"Trend of Age\")\n",
    "# st.plotly_chart(fighist1)\n",
    "\n",
    "\n",
    "# fighist2 = px.histogram(data_frame=df, x=\"hours_per_week\", title=\"Trend of Hours Per Week\")\n",
    "# st.plotly_chart(fighist2)\n"
   ]
  },
  {
   "cell_type": "code",
   "execution_count": null,
   "metadata": {},
   "outputs": [],
   "source": [
    "# figbox1 = px.box(data_frame=df, x=\"age\", title=\"Trend of Age\", orientation='h')\n",
    "# figbox1.show()\n",
    "\n",
    "# figbox2 = px.box(data_frame=df, x=\"hours_per_week\", title=\"Trend of Hours Per Week\", orientation='h')\n",
    "# figbox2.show()"
   ]
  },
  {
   "cell_type": "code",
   "execution_count": null,
   "metadata": {},
   "outputs": [],
   "source": [
    "g = sns.FacetGrid(data=df, col=\"income\", height=5, aspect=1)\n",
    "g.map(sns.boxplot, \"age\")\n",
    "plt.suptitle(\"Trend of Age\", x=0.1, y=1.1, fontsize=30)\n",
    "plt.show()\n",
    "st.pyplot(g)"
   ]
  },
  {
   "cell_type": "code",
   "execution_count": null,
   "metadata": {},
   "outputs": [],
   "source": [
    "g = sns.FacetGrid(data=df, col=\"income\", height=5, aspect=1)\n",
    "g.map(sns.boxplot, \"hours_per_week\")\n",
    "plt.suptitle(\"Trend of Hours Per Week\", x=0.2, y=1.1, fontsize=30)\n",
    "plt.show()\n",
    "\n",
    "st.pyplot(g)"
   ]
  },
  {
   "cell_type": "code",
   "execution_count": null,
   "metadata": {},
   "outputs": [],
   "source": [
    "# figbox1 = px.box(data_frame=df, x=\"age\", title=\"Trend of Age\", orientation='h')\n",
    "# st.plotly_chart(figbox1)\n",
    "\n",
    "# figbox2 = px.box(data_frame=df, x=\"hours_per_week\", title=\"Trend of Hours Per Week\", orientation='h')\n",
    "# st.plotly_chart(figbox2)"
   ]
  },
  {
   "cell_type": "code",
   "execution_count": null,
   "metadata": {},
   "outputs": [],
   "source": [
    "st.write(\"**Select a categorical variable to view bar chart on the right**\")\n",
    "\n",
    "continuous = st.radio(\"Categorical\", (\"education\",\"workclass\",\"sex\"))\n",
    "\n",
    "st.checkbox(\"Stack Bars\", value=False )"
   ]
  },
  {
   "cell_type": "code",
   "execution_count": null,
   "metadata": {},
   "outputs": [],
   "source": [
    "g = sns.FacetGrid(data=df, col=\"income\", height=5, aspect=2.3)\n",
    "g.map(sns.countplot, \"education\")\n",
    "plt.suptitle(\"Trend of Education\", x=0.0, y=1.2, fontsize=30)\n",
    "plt.show()\n",
    "\n",
    "st.pyplot(g)"
   ]
  },
  {
   "cell_type": "code",
   "execution_count": null,
   "metadata": {},
   "outputs": [],
   "source": [
    "g = sns.FacetGrid(data=df, col=\"income\", height=5, aspect=2.3)\n",
    "g.map(sns.countplot, \"workclass\")\n",
    "plt.suptitle(\"Trend of Workclass\", x=0.0, y=1.2, fontsize=30)\n",
    "plt.show()\n",
    "\n",
    "st.pyplot(g)"
   ]
  },
  {
   "cell_type": "code",
   "execution_count": null,
   "metadata": {},
   "outputs": [],
   "source": [
    "g = sns.FacetGrid(data=df, col=\"income\", height=5, aspect=2.3)\n",
    "g.map(sns.countplot, \"sex\")\n",
    "plt.suptitle(\"Trend of Sex\", x=0.0, y=1.2, fontsize=30)\n",
    "plt.show()\n",
    "\n",
    "st.pyplot(g)"
   ]
  },
  {
   "cell_type": "code",
   "execution_count": null,
   "metadata": {},
   "outputs": [],
   "source": [
    "# fig = plt.figure(figsize=(15,5))\n",
    "# sns.countplot(x=\"education\", data=df, hue=df.income)\n",
    "# plt.title(\"Trend of Education\", fontsize=20)\n",
    "# plt.xticks(rotation=45)\n",
    "# plt.show()\n",
    "# st.pyplot(fig)\n",
    "\n",
    "# fig = plt.figure(figsize=(15,5))\n",
    "# sns.countplot(x=\"workclass\", data=df, hue=df.income)\n",
    "# plt.title(\"Trend of Workclass\", fontsize=20)\n",
    "# plt.show()\n",
    "# st.pyplot(fig)\n",
    "\n",
    "# fig = plt.figure(figsize=(15,5))\n",
    "# sns.countplot(x=\"sex\", data=df, hue=df.income)\n",
    "# plt.title(\"Trend of Sex\", fontsize=20)\n",
    "# plt.show()\n",
    "# st.pyplot(fig)\n"
   ]
  },
  {
   "cell_type": "code",
   "execution_count": null,
   "metadata": {},
   "outputs": [],
   "source": [
    "# fig, ax = plt.subplots(1,2, sharex=False, figsize=(16,5))\n",
    "# fig.suptitle('Main Title')\n",
    "\n",
    "\n",
    "\n",
    "# sns.countplot(x=\"education\", data=df, hue=df.income, ax=ax[0])\n",
    "# ax[0].set_title('Title of the first chart')\n",
    "# ax[0].tick_params('x', labelrotation=45)\n",
    "\n",
    "# sns.countplot(x=\"sex\", data=df, hue=df.income, ax=ax[1])\n",
    "# ax[1].set_title('Title of the second chart')\n",
    "\n",
    "# plt.show()\n",
    "# st.pyplot(fig)"
   ]
  },
  {
   "cell_type": "code",
   "execution_count": null,
   "metadata": {},
   "outputs": [],
   "source": []
  },
  {
   "cell_type": "code",
   "execution_count": null,
   "metadata": {},
   "outputs": [],
   "source": [
    "# fig = plt.figure(figsize=(5, 10))\n",
    "\n",
    "# # top bar -> sum all values(income=Less than 50k and income=More than 50k) to find y position of the bars\n",
    "# total = df.groupby('income')['age'].sum().reset_index()\n",
    "\n",
    "# # bar chart 1 -> top bars (group of 'income=Less than 50k')\n",
    "# bar1 = sns.barplot(x=\"income\",  y=\"age\", data=total, color='darkblue')\n",
    "\n",
    "# # bottom bar ->  take only income=More than 50k values from the data\n",
    "# rich = df[df.income=='>50K']\n",
    "\n",
    "# # bar chart 2 -> bottom bars (group of 'income=More than 50k values')\n",
    "# bar2 = sns.barplot(x=\"income\", y=\"age\", data=rich, estimator=sum, ci=None,  color='yellow')\n",
    "\n",
    "# # add legend\n",
    "# top_bar = mpatches.Patch(color='darkblue', label='income = <=50K')\n",
    "# bottom_bar = mpatches.Patch(color='yellow', label='income = >50K')\n",
    "# plt.legend(handles=[top_bar, bottom_bar])\n",
    "\n",
    "# plt.show()"
   ]
  },
  {
   "cell_type": "code",
   "execution_count": null,
   "metadata": {},
   "outputs": [],
   "source": []
  },
  {
   "cell_type": "code",
   "execution_count": null,
   "metadata": {},
   "outputs": [],
   "source": []
  }
 ],
 "metadata": {
  "kernelspec": {
   "display_name": "Python 3",
   "language": "python",
   "name": "python3"
  },
  "language_info": {
   "codemirror_mode": {
    "name": "ipython",
    "version": 3
   },
   "file_extension": ".py",
   "mimetype": "text/x-python",
   "name": "python",
   "nbconvert_exporter": "python",
   "pygments_lexer": "ipython3",
   "version": "3.8.5"
  }
 },
 "nbformat": 4,
 "nbformat_minor": 4
}
