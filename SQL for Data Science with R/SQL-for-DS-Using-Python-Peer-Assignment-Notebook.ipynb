{
 "cells": [
  {
   "cell_type": "markdown",
   "metadata": {},
   "source": [
    "<center>\n",
    "    <img src=\"https://s3-api.us-geo.objectstorage.softlayer.net/cf-courses-data/CognitiveClass/Logos/organization_logo/organization_logo.png\" width=\"300\" alt=\"cognitiveclass.ai logo\"  />\n",
    "</center>\n",
    "\n",
    "# Assignment: Notebook for Peer Assignment\n",
    "\n",
    "Estimated time needed: 45 minutes\n"
   ]
  },
  {
   "cell_type": "markdown",
   "metadata": {},
   "source": [
    "# Assignment Scenario\n",
    "\n",
    "Congratulations! You have just been hired by a US Venture Capital firm as a data analyst.\n",
    "\n",
    "The company is considering foreign grain markets to help meet its supply chain requirements for its recent investments in the microbrewery and microdistillery industry, which is involved with the production and distribution of craft beers and spirits.\n",
    "\n",
    "Your first task is to provide a high level analysis of crop production in Canada. Your stakeholders want to understand the current and historical performance of certain crop types in terms of supply and price volatility. For now they are mainly interested in a macro-view of Canada's crop farming industry, and how it relates to the relative value of the Canadian and US dollars.\n"
   ]
  },
  {
   "cell_type": "markdown",
   "metadata": {},
   "source": [
    "# Introduction\n",
    "\n",
    "Using this R notebook you will:\n",
    "\n",
    "1.  Understand four datasets \n",
    "2.  Load the datasets into four separate tables in a Db2 database\n",
    "3.  Execute SQL queries unsing the RODBC R package to answer assignment questions \n",
    "\n",
    "You have already encountered two of these datasets in the previous practice lab. You will be able to reuse much of the work you did there to prepare your database tables for executing SQL queries.\n"
   ]
  },
  {
   "cell_type": "markdown",
   "metadata": {},
   "source": [
    "# Understand the datasets\n",
    "\n",
    "To complete the assignment problems in this notebook you will be using subsetted snapshots of two datasets from Statistics Canada, and one from the Bank of Canada. The links to the prepared datasets are provided in the next section; the interested student can explore the landing pages for the source datasets as follows:\n",
    "\n",
    "1.  <a href=\"https://www150.statcan.gc.ca/t1/tbl1/en/tv.action?pid=3210035901\">Canadian Principal Crops (Data & Metadata)</a>\n",
    "2.  <a href=\"https://www150.statcan.gc.ca/t1/tbl1/en/tv.action?pid=3210007701\">Farm product prices (Data & Metadata)</a>\n",
    "3.  <a href=\"https://www.bankofcanada.ca/rates/exchange/daily-exchange-rates\">Bank of Canada daily average exchange rates</a>\n",
    "\n",
    "### 1. Canadian Principal Crops Data *\n",
    "\n",
    "This dataset contains agricultural production measures for the principle crops grown in Canada, including a breakdown by province and teritory, for each year from 1908 to 2020.\n",
    "\n",
    "For this assignment you will use a preprocessed snapshot of this dataset (see below).\n",
    "\n",
    "A detailed description of this dataset can be obtained from the StatsCan Data Portal at:\n",
    "[https://www150.statcan.gc.ca/t1/tbl1/en/tv.action?pid=3210035901](https://www150.statcan.gc.ca/t1/tbl1/en/tv.action?pid=3210035901&cm_mmc=Email_Newsletter-_-Developer_Ed%2BTech-_-WW_WW-_-SkillsNetwork-Courses-IBM-RP0203EN-SkillsNetwork-23863830&cm_mmca1=000026UJ&cm_mmca2=10006555&cm_mmca3=M12345678&cvosrc=email.Newsletter.M12345678&cvo_campaign=000026UJ&cm_mmc=Email_Newsletter-_-Developer_Ed%2BTech-_-WW_WW-_-SkillsNetwork-Courses-IBM-RP0203EN-SkillsNetwork-23863830&cm_mmca1=000026UJ&cm_mmca2=10006555&cm_mmca3=M12345678&cvosrc=email.Newsletter.M12345678&cvo_campaign=000026UJ)  \n",
    "Detailed information is included in the metadata file and as header text in the data file, which can be downloaded - look for the 'download options' link.  \n",
    "\n",
    "### 2. Farm product prices\n",
    "\n",
    "This dataset contains monthly average farm product prices for Canadian crops and livestock by province and teritory, from 1980 to 2020 (or 'last year', whichever is greatest).\n",
    "\n",
    "For this assignment you will use a preprocessed snapshot of this dataset (see below).\n",
    "\n",
    "A description of this dataset can be obtained from the StatsCan Data Portal at:\n",
    "[https://www150.statcan.gc.ca/t1/tbl1/en/tv.action?pid=3210007701](https://www150.statcan.gc.ca/t1/tbl1/en/tv.action?pid=3210007701&cm_mmc=Email_Newsletter-_-Developer_Ed%2BTech-_-WW_WW-_-SkillsNetwork-Courses-IBM-RP0203EN-SkillsNetwork-23863830&cm_mmca1=000026UJ&cm_mmca2=10006555&cm_mmca3=M12345678&cvosrc=email.Newsletter.M12345678&cvo_campaign=000026UJ) \n",
    "The information is included in the metadata file, which can be downloaded - look for the 'download options' link.  \n",
    "\n",
    "### 3. Bank of Canada daily average exchange rates *\n",
    "\n",
    "This dataset contains the daily average exchange rates for multiple foreign currencies. Exchange rates are expressed as 1 unit of the foreign currency converted into Canadian dollars. It includes only the latest four years of data, and the rates are published once each business day by 16:30 ET.\n",
    "\n",
    "For this assignment you will use a snapshot of this dataset with only the USD-CAD exchange rates included (see next section). We have also prepared a monthly averaged version which you will be using below.\n",
    "\n",
    "A brief description of this dataset and the original dataset can be obtained from the Bank of Canada Data Portal at:\n",
    "[https://www.bankofcanada.ca/rates/exchange/daily-exchange-rates/](https://www.bankofcanada.ca/rates/exchange/daily-exchange-rates?cm_mmc=Email_Newsletter-_-Developer_Ed%2BTech-_-WW_WW-_-SkillsNetwork-Courses-IBM-RP0203EN-SkillsNetwork-23863830&cm_mmca1=000026UJ&cm_mmca2=10006555&cm_mmca3=M12345678&cvosrc=email.Newsletter.M12345678&cvo_campaign=000026UJ)\n",
    "\n",
    "( * these datasets are the same as the ones you used in the practice lab)\n"
   ]
  },
  {
   "cell_type": "markdown",
   "metadata": {},
   "source": [
    "### Dataset URLs\n",
    "\n",
    "1.  Annual Crop Data: <https://cf-courses-data.s3.us.cloud-object-storage.appdomain.cloud/IBM-RP0203EN-SkillsNetwork/labs/Final%20Project/Annual_Crop_Data.csv> \n",
    "\n",
    "2.  Farm product prices: <https://cf-courses-data.s3.us.cloud-object-storage.appdomain.cloud/IBM-RP0203EN-SkillsNetwork/labs/Final%20Project/Monthly_Farm_Prices.csv>\n",
    "\n",
    "3.  Daily FX Data: <https://cf-courses-data.s3.us.cloud-object-storage.appdomain.cloud/IBM-RP0203EN-SkillsNetwork/labs/Final%20Project/Daily_FX.csv>\n",
    "\n",
    "4.  Monthly FX Data: <https://cf-courses-data.s3.us.cloud-object-storage.appdomain.cloud/IBM-RP0203EN-SkillsNetwork/labs/Final%20Project/Monthly_FX.csv>\n",
    "\n",
    "<span style=\"color:red\">**IMPORTANT:**</span> You will be loading these datasets directly into R data frames from these URLs instead of from the StatsCan and Bank of Canada portals. The versions provided at these URLs are simplified and subsetted versions of the original datasets.\n"
   ]
  },
  {
   "cell_type": "markdown",
   "metadata": {},
   "source": [
    "#### Now let's load these datasets into four separate Db2 tables.\n",
    "\n",
    "Let's first load the RODBC package:\n"
   ]
  },
  {
   "cell_type": "code",
   "execution_count": 3,
   "metadata": {},
   "outputs": [],
   "source": [
    "import numpy as np\n",
    "import pandas as pd\n",
    "import datetime\n",
    "\n",
    "# Establish database connection\n",
    "import sqlite3 as sq3\n",
    "import ibm_db\n",
    "import ibm_db_dbi\n",
    "%load_ext sql\n",
    "\n",
    "pd.set_option('display.max_columns',None)\n",
    "#pd.set_option('display.max_rows',None)\n",
    "pd.set_option('display.width', 1000)\n",
    "pd.set_option('display.float_format','{:.2f}'.format)"
   ]
  },
  {
   "cell_type": "markdown",
   "metadata": {},
   "source": [
    "## Problem 1\n",
    "\n",
    "#### Create tables\n",
    "\n",
    "Establish a connection to the Db2 database, and create the following four tables using the RODBC package in R. \n",
    "Use the separate cells provided below to create each of your tables.\n",
    "\n",
    "1.  **CROP_DATA**\n",
    "2.  **FARM_PRICES**\n",
    "3.  **DAILY_FX**\n",
    "4.  **MONTHLY_FX**  \n",
    "\n",
    "The previous practice lab will help you accomplish this.\n"
   ]
  },
  {
   "cell_type": "markdown",
   "metadata": {},
   "source": [
    "### Solution 1\n"
   ]
  },
  {
   "cell_type": "markdown",
   "metadata": {},
   "source": [
    "### IBM DB"
   ]
  },
  {
   "cell_type": "code",
   "execution_count": null,
   "metadata": {},
   "outputs": [],
   "source": [
    "#Replace the placeholder values with your actual Db2 hostname, username, and password:\n",
    "dsn_hostname = \"dashdb-txn-sbox-yp-dal09-04.services.dal.bluemix.net\" # e.g.: \"dashdb-txn-sbox-yp-dal09-04.services.dal.bluemix.net\"\n",
    "dsn_uid = \"glm90595\"        # e.g. \"abc12345\"\n",
    "dsn_pwd = \"m3rrl046qnqcx^35\"      # e.g. \"7dBZ3wWt9XN6$o0J\"\n",
    "\n",
    "dsn_driver = \"{IBM DB2 ODBC DRIVER}\"\n",
    "dsn_database = \"BLUDB\"            # e.g. \"BLUDB\"\n",
    "dsn_port = \"50000\"                # e.g. \"50000\" \n",
    "dsn_protocol = \"TCPIP\"            # i.e. \"TCPIP\""
   ]
  },
  {
   "cell_type": "code",
   "execution_count": null,
   "metadata": {},
   "outputs": [],
   "source": [
    "#DO NOT MODIFY THIS CELL. Just RUN it with Shift + Enter\n",
    "#Create the dsn connection string\n",
    "dsn = (\n",
    "    \"DRIVER={0};\"\n",
    "    \"DATABASE={1};\"\n",
    "    \"HOSTNAME={2};\"\n",
    "    \"PORT={3};\"\n",
    "    \"PROTOCOL={4};\"\n",
    "    \"UID={5};\"\n",
    "    \"PWD={6};\").format(dsn_driver, dsn_database, dsn_hostname, dsn_port, dsn_protocol, dsn_uid, dsn_pwd)\n",
    "\n",
    "#print the connection string to check correct values are specified\n",
    "print(dsn)"
   ]
  },
  {
   "cell_type": "code",
   "execution_count": null,
   "metadata": {},
   "outputs": [],
   "source": [
    "#DO NOT MODIFY THIS CELL. Just RUN it with Shift + Enter\n",
    "#Create database connection\n",
    "\n",
    "try:\n",
    "    conn = ibm_db.connect(dsn, \"\", \"\")\n",
    "    print (\"Connected to database: \", dsn_database, \"as user: \", dsn_uid, \"on host: \", dsn_hostname)\n",
    "\n",
    "except:\n",
    "    print (\"Unable to connect: \", ibm_db.conn_errormsg() )\n"
   ]
  },
  {
   "cell_type": "code",
   "execution_count": null,
   "metadata": {},
   "outputs": [],
   "source": [
    "#Retrieve Metadata for the Database Server\n",
    "server = ibm_db.server_info(conn)\n",
    "\n",
    "print (\"DBMS_NAME: \", server.DBMS_NAME)\n",
    "print (\"DBMS_VER:  \", server.DBMS_VER)\n",
    "print (\"DB_NAME:   \", server.DB_NAME)"
   ]
  },
  {
   "cell_type": "code",
   "execution_count": null,
   "metadata": {},
   "outputs": [],
   "source": [
    "#Retrieve Metadata for the Database Client / Driver\n",
    "client = ibm_db.client_info(conn)\n",
    "\n",
    "print (\"DRIVER_NAME:          \", client.DRIVER_NAME) \n",
    "print (\"DRIVER_VER:           \", client.DRIVER_VER)\n",
    "print (\"DATA_SOURCE_NAME:     \", client.DATA_SOURCE_NAME)\n",
    "print (\"DRIVER_ODBC_VER:      \", client.DRIVER_ODBC_VER)\n",
    "print (\"ODBC_VER:             \", client.ODBC_VER)\n",
    "print (\"ODBC_SQL_CONFORMANCE: \", client.ODBC_SQL_CONFORMANCE)\n",
    "print (\"APPL_CODEPAGE:        \", client.APPL_CODEPAGE)\n",
    "print (\"CONN_CODEPAGE:        \", client.CONN_CODEPAGE)"
   ]
  },
  {
   "cell_type": "code",
   "execution_count": null,
   "metadata": {},
   "outputs": [],
   "source": [
    "ibm_db.close(conn)"
   ]
  },
  {
   "cell_type": "markdown",
   "metadata": {},
   "source": [
    "### SQLite"
   ]
  },
  {
   "cell_type": "markdown",
   "metadata": {},
   "source": [
    "### Test Connection"
   ]
  },
  {
   "cell_type": "code",
   "execution_count": null,
   "metadata": {},
   "outputs": [],
   "source": [
    "con = sq3.connect(\"sqlite_data.db\")"
   ]
  },
  {
   "cell_type": "code",
   "execution_count": null,
   "metadata": {},
   "outputs": [],
   "source": [
    "con.execute(\"Select * FROM sqlite_master\").fetchall() #Check no data"
   ]
  },
  {
   "cell_type": "code",
   "execution_count": null,
   "metadata": {},
   "outputs": [],
   "source": [
    "con.close()"
   ]
  },
  {
   "cell_type": "markdown",
   "metadata": {},
   "source": [
    "### Create Tables"
   ]
  },
  {
   "cell_type": "code",
   "execution_count": null,
   "metadata": {},
   "outputs": [],
   "source": [
    "# CROP_DATA:\n",
    "df1 = pd.read_csv(\"Annual_Crop_Data.csv\", parse_dates=[\"YEAR\"])\n",
    "df1.head()"
   ]
  },
  {
   "cell_type": "code",
   "execution_count": null,
   "metadata": {},
   "outputs": [],
   "source": [
    "df1.isnull().sum()"
   ]
  },
  {
   "cell_type": "code",
   "execution_count": null,
   "metadata": {},
   "outputs": [],
   "source": [
    "CROP_DATA = df1.copy()"
   ]
  },
  {
   "cell_type": "code",
   "execution_count": null,
   "metadata": {},
   "outputs": [],
   "source": [
    "# FARM_PRICES:\n",
    "df2 = pd.read_csv(\"Monthly_Farm_Prices.csv\", parse_dates=[\"date\"])\n",
    "df2.head()"
   ]
  },
  {
   "cell_type": "code",
   "execution_count": null,
   "metadata": {},
   "outputs": [],
   "source": [
    "df2.isnull().sum()"
   ]
  },
  {
   "cell_type": "code",
   "execution_count": null,
   "metadata": {},
   "outputs": [],
   "source": [
    "FARM_PRICES = df2.copy()"
   ]
  },
  {
   "cell_type": "code",
   "execution_count": null,
   "metadata": {},
   "outputs": [],
   "source": [
    "# DAILY_FX:\n",
    "df3 = pd.read_csv(\"Daily_FX.csv\", parse_dates=[\"date\"])\n",
    "df3.head()"
   ]
  },
  {
   "cell_type": "code",
   "execution_count": null,
   "metadata": {},
   "outputs": [],
   "source": [
    "df3.isnull().sum()"
   ]
  },
  {
   "cell_type": "code",
   "execution_count": null,
   "metadata": {},
   "outputs": [],
   "source": [
    "DAILY_FX = df3.copy()"
   ]
  },
  {
   "cell_type": "code",
   "execution_count": null,
   "metadata": {},
   "outputs": [],
   "source": [
    "# MONTHLY_FX:\n",
    "df4 = pd.read_csv(\"Monthly_FX.csv\", parse_dates=[\"date\"])\n",
    "df4.head()"
   ]
  },
  {
   "cell_type": "code",
   "execution_count": null,
   "metadata": {},
   "outputs": [],
   "source": [
    "df4.isnull().sum()"
   ]
  },
  {
   "cell_type": "code",
   "execution_count": null,
   "metadata": {},
   "outputs": [],
   "source": [
    "MONTHLY_FX = df4.copy()"
   ]
  },
  {
   "cell_type": "markdown",
   "metadata": {},
   "source": [
    "### Upload to Database"
   ]
  },
  {
   "cell_type": "code",
   "execution_count": null,
   "metadata": {},
   "outputs": [],
   "source": [
    "con = sq3.connect(\"sqlite_data.db\")"
   ]
  },
  {
   "cell_type": "code",
   "execution_count": null,
   "metadata": {},
   "outputs": [],
   "source": [
    "con"
   ]
  },
  {
   "cell_type": "code",
   "execution_count": null,
   "metadata": {},
   "outputs": [],
   "source": [
    "CROP_DATA.to_sql(\"Cropdata\", con, index=False)"
   ]
  },
  {
   "cell_type": "code",
   "execution_count": null,
   "metadata": {},
   "outputs": [],
   "source": [
    "FARM_PRICES.to_sql(\"Farmprices\", con, index=False)"
   ]
  },
  {
   "cell_type": "code",
   "execution_count": null,
   "metadata": {},
   "outputs": [],
   "source": [
    "DAILY_FX.to_sql(\"Dailyfx\", con, index=False)"
   ]
  },
  {
   "cell_type": "code",
   "execution_count": null,
   "metadata": {},
   "outputs": [],
   "source": [
    "MONTHLY_FX.to_sql(\"Monthlyfx\", con, index=False)"
   ]
  },
  {
   "cell_type": "code",
   "execution_count": null,
   "metadata": {},
   "outputs": [],
   "source": [
    "con.execute(\"Select * FROM sqlite_master\").fetchall()"
   ]
  },
  {
   "cell_type": "code",
   "execution_count": null,
   "metadata": {},
   "outputs": [],
   "source": [
    "pd.read_sql_query(\"Select * FROM sqlite_master\", con) #Check all tables inside database"
   ]
  },
  {
   "cell_type": "code",
   "execution_count": null,
   "metadata": {},
   "outputs": [],
   "source": [
    "con.close()"
   ]
  },
  {
   "cell_type": "markdown",
   "metadata": {},
   "source": [
    "## Problem 2\n",
    "\n",
    "#### Read Datasets and Load Tables\n",
    "\n",
    "Read the datasets into R dataframes using the urls provided above. Then load your tables.\n"
   ]
  },
  {
   "cell_type": "markdown",
   "metadata": {},
   "source": [
    "### Solution 2\n"
   ]
  },
  {
   "cell_type": "code",
   "execution_count": 4,
   "metadata": {},
   "outputs": [],
   "source": [
    "db = sq3.connect(\"sqlite_data.db\") #Create connection"
   ]
  },
  {
   "cell_type": "code",
   "execution_count": 5,
   "metadata": {},
   "outputs": [],
   "source": [
    "cursor = db.cursor()"
   ]
  },
  {
   "cell_type": "code",
   "execution_count": 6,
   "metadata": {},
   "outputs": [
    {
     "data": {
      "text/html": [
       "<div>\n",
       "<style scoped>\n",
       "    .dataframe tbody tr th:only-of-type {\n",
       "        vertical-align: middle;\n",
       "    }\n",
       "\n",
       "    .dataframe tbody tr th {\n",
       "        vertical-align: top;\n",
       "    }\n",
       "\n",
       "    .dataframe thead th {\n",
       "        text-align: right;\n",
       "    }\n",
       "</style>\n",
       "<table border=\"1\" class=\"dataframe\">\n",
       "  <thead>\n",
       "    <tr style=\"text-align: right;\">\n",
       "      <th></th>\n",
       "      <th>type</th>\n",
       "      <th>name</th>\n",
       "      <th>tbl_name</th>\n",
       "      <th>rootpage</th>\n",
       "      <th>sql</th>\n",
       "    </tr>\n",
       "  </thead>\n",
       "  <tbody>\n",
       "    <tr>\n",
       "      <th>0</th>\n",
       "      <td>table</td>\n",
       "      <td>Cropdata</td>\n",
       "      <td>Cropdata</td>\n",
       "      <td>2</td>\n",
       "      <td>CREATE TABLE \"Cropdata\" (\\n\"index\" INTEGER,\\n ...</td>\n",
       "    </tr>\n",
       "    <tr>\n",
       "      <th>1</th>\n",
       "      <td>table</td>\n",
       "      <td>Farmprices</td>\n",
       "      <td>Farmprices</td>\n",
       "      <td>13</td>\n",
       "      <td>CREATE TABLE \"Farmprices\" (\\n\"index\" INTEGER,\\...</td>\n",
       "    </tr>\n",
       "    <tr>\n",
       "      <th>2</th>\n",
       "      <td>table</td>\n",
       "      <td>Dailyfx</td>\n",
       "      <td>Dailyfx</td>\n",
       "      <td>50</td>\n",
       "      <td>CREATE TABLE \"Dailyfx\" (\\n\"index\" INTEGER,\\n  ...</td>\n",
       "    </tr>\n",
       "    <tr>\n",
       "      <th>3</th>\n",
       "      <td>table</td>\n",
       "      <td>Monthlyfx</td>\n",
       "      <td>Monthlyfx</td>\n",
       "      <td>61</td>\n",
       "      <td>CREATE TABLE \"Monthlyfx\" (\\n\"index\" INTEGER,\\n...</td>\n",
       "    </tr>\n",
       "  </tbody>\n",
       "</table>\n",
       "</div>"
      ],
      "text/plain": [
       "    type        name    tbl_name  rootpage                                                sql\n",
       "0  table    Cropdata    Cropdata         2  CREATE TABLE \"Cropdata\" (\\n\"index\" INTEGER,\\n ...\n",
       "1  table  Farmprices  Farmprices        13  CREATE TABLE \"Farmprices\" (\\n\"index\" INTEGER,\\...\n",
       "2  table     Dailyfx     Dailyfx        50  CREATE TABLE \"Dailyfx\" (\\n\"index\" INTEGER,\\n  ...\n",
       "3  table   Monthlyfx   Monthlyfx        61  CREATE TABLE \"Monthlyfx\" (\\n\"index\" INTEGER,\\n..."
      ]
     },
     "execution_count": 6,
     "metadata": {},
     "output_type": "execute_result"
    }
   ],
   "source": [
    "pd.read_sql_query('SELECT * FROM sqlite_master', db) #Check all tables"
   ]
  },
  {
   "cell_type": "markdown",
   "metadata": {},
   "source": [
    "## Now execute SQL queries using the RODBC R package to solve the assignment problems.\n",
    "\n",
    "## Problem 3\n",
    "\n",
    "#### How many records are in the farm prices dataset?\n"
   ]
  },
  {
   "cell_type": "markdown",
   "metadata": {},
   "source": [
    "### Solution 3\n"
   ]
  },
  {
   "cell_type": "code",
   "execution_count": 7,
   "metadata": {},
   "outputs": [],
   "source": [
    "farmprice = pd.read_sql_query('SELECT * FROM Farmprices', db , index_col=\"index\", parse_dates='date')"
   ]
  },
  {
   "cell_type": "code",
   "execution_count": 8,
   "metadata": {},
   "outputs": [
    {
     "data": {
      "text/html": [
       "<div>\n",
       "<style scoped>\n",
       "    .dataframe tbody tr th:only-of-type {\n",
       "        vertical-align: middle;\n",
       "    }\n",
       "\n",
       "    .dataframe tbody tr th {\n",
       "        vertical-align: top;\n",
       "    }\n",
       "\n",
       "    .dataframe thead th {\n",
       "        text-align: right;\n",
       "    }\n",
       "</style>\n",
       "<table border=\"1\" class=\"dataframe\">\n",
       "  <thead>\n",
       "    <tr style=\"text-align: right;\">\n",
       "      <th></th>\n",
       "      <th>date</th>\n",
       "      <th>cropType</th>\n",
       "      <th>GEO</th>\n",
       "      <th>pricePerMT</th>\n",
       "    </tr>\n",
       "    <tr>\n",
       "      <th>index</th>\n",
       "      <th></th>\n",
       "      <th></th>\n",
       "      <th></th>\n",
       "      <th></th>\n",
       "    </tr>\n",
       "  </thead>\n",
       "  <tbody>\n",
       "    <tr>\n",
       "      <th>0</th>\n",
       "      <td>1985-01-01</td>\n",
       "      <td>Barley</td>\n",
       "      <td>Alberta</td>\n",
       "      <td>127.39</td>\n",
       "    </tr>\n",
       "    <tr>\n",
       "      <th>1</th>\n",
       "      <td>1985-01-01</td>\n",
       "      <td>Barley</td>\n",
       "      <td>Saskatchewan</td>\n",
       "      <td>121.38</td>\n",
       "    </tr>\n",
       "    <tr>\n",
       "      <th>2</th>\n",
       "      <td>1985-01-01</td>\n",
       "      <td>Canola</td>\n",
       "      <td>Alberta</td>\n",
       "      <td>342.00</td>\n",
       "    </tr>\n",
       "    <tr>\n",
       "      <th>3</th>\n",
       "      <td>1985-01-01</td>\n",
       "      <td>Canola</td>\n",
       "      <td>Saskatchewan</td>\n",
       "      <td>339.82</td>\n",
       "    </tr>\n",
       "    <tr>\n",
       "      <th>4</th>\n",
       "      <td>1985-01-01</td>\n",
       "      <td>Rye</td>\n",
       "      <td>Alberta</td>\n",
       "      <td>100.77</td>\n",
       "    </tr>\n",
       "    <tr>\n",
       "      <th>...</th>\n",
       "      <td>...</td>\n",
       "      <td>...</td>\n",
       "      <td>...</td>\n",
       "      <td>...</td>\n",
       "    </tr>\n",
       "    <tr>\n",
       "      <th>2673</th>\n",
       "      <td>2020-12-01</td>\n",
       "      <td>Canola</td>\n",
       "      <td>Saskatchewan</td>\n",
       "      <td>507.33</td>\n",
       "    </tr>\n",
       "    <tr>\n",
       "      <th>2674</th>\n",
       "      <td>2020-12-01</td>\n",
       "      <td>Rye</td>\n",
       "      <td>Alberta</td>\n",
       "      <td>202.41</td>\n",
       "    </tr>\n",
       "    <tr>\n",
       "      <th>2675</th>\n",
       "      <td>2020-12-01</td>\n",
       "      <td>Rye</td>\n",
       "      <td>Saskatchewan</td>\n",
       "      <td>192.90</td>\n",
       "    </tr>\n",
       "    <tr>\n",
       "      <th>2676</th>\n",
       "      <td>2020-12-01</td>\n",
       "      <td>Wheat</td>\n",
       "      <td>Alberta</td>\n",
       "      <td>279.59</td>\n",
       "    </tr>\n",
       "    <tr>\n",
       "      <th>2677</th>\n",
       "      <td>2020-12-01</td>\n",
       "      <td>Wheat</td>\n",
       "      <td>Saskatchewan</td>\n",
       "      <td>271.90</td>\n",
       "    </tr>\n",
       "  </tbody>\n",
       "</table>\n",
       "<p>2678 rows × 4 columns</p>\n",
       "</div>"
      ],
      "text/plain": [
       "            date cropType           GEO  pricePerMT\n",
       "index                                              \n",
       "0     1985-01-01   Barley       Alberta      127.39\n",
       "1     1985-01-01   Barley  Saskatchewan      121.38\n",
       "2     1985-01-01   Canola       Alberta      342.00\n",
       "3     1985-01-01   Canola  Saskatchewan      339.82\n",
       "4     1985-01-01      Rye       Alberta      100.77\n",
       "...          ...      ...           ...         ...\n",
       "2673  2020-12-01   Canola  Saskatchewan      507.33\n",
       "2674  2020-12-01      Rye       Alberta      202.41\n",
       "2675  2020-12-01      Rye  Saskatchewan      192.90\n",
       "2676  2020-12-01    Wheat       Alberta      279.59\n",
       "2677  2020-12-01    Wheat  Saskatchewan      271.90\n",
       "\n",
       "[2678 rows x 4 columns]"
      ]
     },
     "execution_count": 8,
     "metadata": {},
     "output_type": "execute_result"
    }
   ],
   "source": [
    "farmprice"
   ]
  },
  {
   "cell_type": "code",
   "execution_count": null,
   "metadata": {},
   "outputs": [],
   "source": [
    "pd.read_sql_query('SELECT COUNT(*) FROM Farmprices', db)"
   ]
  },
  {
   "cell_type": "code",
   "execution_count": null,
   "metadata": {},
   "outputs": [],
   "source": [
    "farmprice.shape"
   ]
  },
  {
   "cell_type": "markdown",
   "metadata": {},
   "source": [
    "## Problem 4\n",
    "\n",
    "#### Which geographies are included in the farm prices dataset?\n"
   ]
  },
  {
   "cell_type": "markdown",
   "metadata": {},
   "source": [
    "### Solution 4"
   ]
  },
  {
   "cell_type": "code",
   "execution_count": null,
   "metadata": {},
   "outputs": [],
   "source": [
    "pd.read_sql_query('SELECT DISTINCT GEO FROM Farmprices', db)"
   ]
  },
  {
   "cell_type": "code",
   "execution_count": null,
   "metadata": {},
   "outputs": [],
   "source": [
    "farmprice.GEO.unique()"
   ]
  },
  {
   "cell_type": "markdown",
   "metadata": {},
   "source": [
    "## Problem 5\n",
    "\n",
    "#### How many hectares of Rye were harvested in Canada in 1968?\n"
   ]
  },
  {
   "cell_type": "code",
   "execution_count": 9,
   "metadata": {},
   "outputs": [],
   "source": [
    "cropdata = pd.read_sql_query('SELECT * FROM Cropdata',db , index_col='index', parse_dates='YEAR')"
   ]
  },
  {
   "cell_type": "code",
   "execution_count": 10,
   "metadata": {},
   "outputs": [
    {
     "data": {
      "text/html": [
       "<div>\n",
       "<style scoped>\n",
       "    .dataframe tbody tr th:only-of-type {\n",
       "        vertical-align: middle;\n",
       "    }\n",
       "\n",
       "    .dataframe tbody tr th {\n",
       "        vertical-align: top;\n",
       "    }\n",
       "\n",
       "    .dataframe thead th {\n",
       "        text-align: right;\n",
       "    }\n",
       "</style>\n",
       "<table border=\"1\" class=\"dataframe\">\n",
       "  <thead>\n",
       "    <tr style=\"text-align: right;\">\n",
       "      <th></th>\n",
       "      <th>YEAR</th>\n",
       "      <th>cropType</th>\n",
       "      <th>GEO</th>\n",
       "      <th>seededArea</th>\n",
       "      <th>harvestedArea</th>\n",
       "      <th>production</th>\n",
       "      <th>avgYield</th>\n",
       "    </tr>\n",
       "    <tr>\n",
       "      <th>index</th>\n",
       "      <th></th>\n",
       "      <th></th>\n",
       "      <th></th>\n",
       "      <th></th>\n",
       "      <th></th>\n",
       "      <th></th>\n",
       "      <th></th>\n",
       "    </tr>\n",
       "  </thead>\n",
       "  <tbody>\n",
       "    <tr>\n",
       "      <th>0</th>\n",
       "      <td>1965-12-31</td>\n",
       "      <td>Barley</td>\n",
       "      <td>Alberta</td>\n",
       "      <td>1372000</td>\n",
       "      <td>1372000</td>\n",
       "      <td>2504000</td>\n",
       "      <td>1825</td>\n",
       "    </tr>\n",
       "    <tr>\n",
       "      <th>1</th>\n",
       "      <td>1965-12-31</td>\n",
       "      <td>Barley</td>\n",
       "      <td>Canada</td>\n",
       "      <td>2476800</td>\n",
       "      <td>2476800</td>\n",
       "      <td>4752900</td>\n",
       "      <td>1920</td>\n",
       "    </tr>\n",
       "    <tr>\n",
       "      <th>2</th>\n",
       "      <td>1965-12-31</td>\n",
       "      <td>Barley</td>\n",
       "      <td>Saskatchewan</td>\n",
       "      <td>708000</td>\n",
       "      <td>708000</td>\n",
       "      <td>1415000</td>\n",
       "      <td>2000</td>\n",
       "    </tr>\n",
       "    <tr>\n",
       "      <th>3</th>\n",
       "      <td>1965-12-31</td>\n",
       "      <td>Canola</td>\n",
       "      <td>Alberta</td>\n",
       "      <td>297400</td>\n",
       "      <td>297400</td>\n",
       "      <td>215500</td>\n",
       "      <td>725</td>\n",
       "    </tr>\n",
       "    <tr>\n",
       "      <th>4</th>\n",
       "      <td>1965-12-31</td>\n",
       "      <td>Canola</td>\n",
       "      <td>Canada</td>\n",
       "      <td>580700</td>\n",
       "      <td>580700</td>\n",
       "      <td>512600</td>\n",
       "      <td>885</td>\n",
       "    </tr>\n",
       "    <tr>\n",
       "      <th>...</th>\n",
       "      <td>...</td>\n",
       "      <td>...</td>\n",
       "      <td>...</td>\n",
       "      <td>...</td>\n",
       "      <td>...</td>\n",
       "      <td>...</td>\n",
       "      <td>...</td>\n",
       "    </tr>\n",
       "    <tr>\n",
       "      <th>667</th>\n",
       "      <td>2020-12-31</td>\n",
       "      <td>Rye</td>\n",
       "      <td>Canada</td>\n",
       "      <td>236700</td>\n",
       "      <td>153000</td>\n",
       "      <td>487800</td>\n",
       "      <td>3188</td>\n",
       "    </tr>\n",
       "    <tr>\n",
       "      <th>668</th>\n",
       "      <td>2020-12-31</td>\n",
       "      <td>Rye</td>\n",
       "      <td>Saskatchewan</td>\n",
       "      <td>58200</td>\n",
       "      <td>47400</td>\n",
       "      <td>122000</td>\n",
       "      <td>2572</td>\n",
       "    </tr>\n",
       "    <tr>\n",
       "      <th>669</th>\n",
       "      <td>2020-12-31</td>\n",
       "      <td>Wheat</td>\n",
       "      <td>Alberta</td>\n",
       "      <td>3014300</td>\n",
       "      <td>2944700</td>\n",
       "      <td>11041000</td>\n",
       "      <td>3750</td>\n",
       "    </tr>\n",
       "    <tr>\n",
       "      <th>670</th>\n",
       "      <td>2020-12-31</td>\n",
       "      <td>Wheat</td>\n",
       "      <td>Canada</td>\n",
       "      <td>10193600</td>\n",
       "      <td>10017800</td>\n",
       "      <td>35183000</td>\n",
       "      <td>3512</td>\n",
       "    </tr>\n",
       "    <tr>\n",
       "      <th>671</th>\n",
       "      <td>2020-12-31</td>\n",
       "      <td>Wheat</td>\n",
       "      <td>Saskatchewan</td>\n",
       "      <td>5203700</td>\n",
       "      <td>5175400</td>\n",
       "      <td>15984200</td>\n",
       "      <td>3088</td>\n",
       "    </tr>\n",
       "  </tbody>\n",
       "</table>\n",
       "<p>672 rows × 7 columns</p>\n",
       "</div>"
      ],
      "text/plain": [
       "            YEAR cropType           GEO  seededArea  harvestedArea  production  avgYield\n",
       "index                                                                                   \n",
       "0     1965-12-31   Barley       Alberta     1372000        1372000     2504000      1825\n",
       "1     1965-12-31   Barley        Canada     2476800        2476800     4752900      1920\n",
       "2     1965-12-31   Barley  Saskatchewan      708000         708000     1415000      2000\n",
       "3     1965-12-31   Canola       Alberta      297400         297400      215500       725\n",
       "4     1965-12-31   Canola        Canada      580700         580700      512600       885\n",
       "...          ...      ...           ...         ...            ...         ...       ...\n",
       "667   2020-12-31      Rye        Canada      236700         153000      487800      3188\n",
       "668   2020-12-31      Rye  Saskatchewan       58200          47400      122000      2572\n",
       "669   2020-12-31    Wheat       Alberta     3014300        2944700    11041000      3750\n",
       "670   2020-12-31    Wheat        Canada    10193600       10017800    35183000      3512\n",
       "671   2020-12-31    Wheat  Saskatchewan     5203700        5175400    15984200      3088\n",
       "\n",
       "[672 rows x 7 columns]"
      ]
     },
     "execution_count": 10,
     "metadata": {},
     "output_type": "execute_result"
    }
   ],
   "source": [
    "cropdata"
   ]
  },
  {
   "cell_type": "markdown",
   "metadata": {},
   "source": [
    "### Solution 5"
   ]
  },
  {
   "cell_type": "code",
   "execution_count": null,
   "metadata": {},
   "outputs": [],
   "source": [
    "pd.read_sql_query('SELECT YEAR, cropType, SUM(harvestedArea) \\\n",
    "                   FROM Cropdata \\\n",
    "                   WHERE cropType=\"Rye\" AND YEAR LIKE \"1968%\";', db\n",
    "                   )"
   ]
  },
  {
   "cell_type": "code",
   "execution_count": null,
   "metadata": {},
   "outputs": [],
   "source": [
    "cd = cropdata[(cropdata[\"YEAR\"] == \"1968-12-31\") & (cropdata[\"cropType\"] == \"Rye\")]\n",
    "cd"
   ]
  },
  {
   "cell_type": "code",
   "execution_count": null,
   "metadata": {},
   "outputs": [],
   "source": [
    "cd.harvestedArea.sum()"
   ]
  },
  {
   "cell_type": "markdown",
   "metadata": {},
   "source": [
    "## Problem 6\n",
    "\n",
    "#### Query and display the first 6 rows of the farm prices table for Rye.\n"
   ]
  },
  {
   "cell_type": "markdown",
   "metadata": {},
   "source": [
    "### Solution 6\n"
   ]
  },
  {
   "cell_type": "code",
   "execution_count": null,
   "metadata": {},
   "outputs": [],
   "source": [
    "pd.read_sql_query('SELECT cropType, pricePerMT \\\n",
    "                   FROM Farmprices \\\n",
    "                   WHERE cropType = \"Rye\"\\\n",
    "                   LIMIT 6;', db\n",
    "                   )"
   ]
  },
  {
   "cell_type": "code",
   "execution_count": null,
   "metadata": {},
   "outputs": [],
   "source": [
    "ryeprice = farmprice[farmprice[\"cropType\"] == \"Rye\"]"
   ]
  },
  {
   "cell_type": "code",
   "execution_count": null,
   "metadata": {},
   "outputs": [],
   "source": [
    "ryeprice.head(6)"
   ]
  },
  {
   "cell_type": "markdown",
   "metadata": {},
   "source": [
    "## Problem 7\n",
    "\n",
    "#### Which provinces grew Barley?\n"
   ]
  },
  {
   "cell_type": "markdown",
   "metadata": {},
   "source": [
    "### Solution 7\n"
   ]
  },
  {
   "cell_type": "code",
   "execution_count": null,
   "metadata": {},
   "outputs": [],
   "source": [
    "pd.read_sql_query('SELECT DISTINCT cropType, GEO \\\n",
    "                   FROM Cropdata \\\n",
    "                   WHERE cropType = \"Barley\"\\\n",
    "                   ;', db\n",
    "                   )"
   ]
  },
  {
   "cell_type": "code",
   "execution_count": null,
   "metadata": {},
   "outputs": [],
   "source": []
  },
  {
   "cell_type": "code",
   "execution_count": null,
   "metadata": {},
   "outputs": [],
   "source": [
    "cropdata.head()"
   ]
  },
  {
   "cell_type": "code",
   "execution_count": null,
   "metadata": {},
   "outputs": [],
   "source": [
    "barley_provinces = cropdata[cropdata[\"cropType\"] == \"Barley\"]"
   ]
  },
  {
   "cell_type": "code",
   "execution_count": null,
   "metadata": {},
   "outputs": [],
   "source": [
    "barley_provinces.GEO.unique()"
   ]
  },
  {
   "cell_type": "markdown",
   "metadata": {},
   "source": [
    "## Problem 8\n",
    "\n",
    "#### Find the first and last dates for the farm prices data.\n"
   ]
  },
  {
   "cell_type": "markdown",
   "metadata": {},
   "source": [
    "### Solution 8\n"
   ]
  },
  {
   "cell_type": "code",
   "execution_count": null,
   "metadata": {},
   "outputs": [],
   "source": [
    "pd.read_sql_query('SELECT MIN(date) FROM Farmprices', db)"
   ]
  },
  {
   "cell_type": "code",
   "execution_count": null,
   "metadata": {},
   "outputs": [],
   "source": [
    "pd.read_sql_query('SELECT MAX(date) FROM Farmprices', db)"
   ]
  },
  {
   "cell_type": "code",
   "execution_count": null,
   "metadata": {},
   "outputs": [],
   "source": [
    "farmprice['date'].min()"
   ]
  },
  {
   "cell_type": "code",
   "execution_count": null,
   "metadata": {},
   "outputs": [],
   "source": [
    "farmprice['date'].max()"
   ]
  },
  {
   "cell_type": "markdown",
   "metadata": {},
   "source": [
    "## Problem 9\n",
    "\n",
    "#### Which crops have ever reached a farm price greater than or equal to $350 per metric tonne?\n"
   ]
  },
  {
   "cell_type": "markdown",
   "metadata": {},
   "source": [
    "### Solution 9\n"
   ]
  },
  {
   "cell_type": "code",
   "execution_count": null,
   "metadata": {},
   "outputs": [],
   "source": [
    "pd.read_sql_query('SELECT cropType, pricePerMT \\\n",
    "                   FROM Farmprices \\\n",
    "                   WHERE pricePerMT >=350.00;', db)"
   ]
  },
  {
   "cell_type": "code",
   "execution_count": null,
   "metadata": {},
   "outputs": [],
   "source": []
  },
  {
   "cell_type": "code",
   "execution_count": null,
   "metadata": {},
   "outputs": [],
   "source": [
    "croptype = farmprice[farmprice[\"pricePerMT\"] >= 350.00]\n",
    "croptype"
   ]
  },
  {
   "cell_type": "code",
   "execution_count": null,
   "metadata": {},
   "outputs": [],
   "source": [
    "croptype.cropType.unique()"
   ]
  },
  {
   "cell_type": "markdown",
   "metadata": {},
   "source": [
    "## Problem 10\n",
    "\n",
    "#### Rank the crop types harvested in Saskatchewan in the year 2000 by their average yield. Which crop performed best?\n"
   ]
  },
  {
   "cell_type": "markdown",
   "metadata": {},
   "source": [
    "### Solution 10\n"
   ]
  },
  {
   "cell_type": "code",
   "execution_count": null,
   "metadata": {},
   "outputs": [],
   "source": [
    "pd.read_sql_query('SELECT cropType, avgYield \\\n",
    "                   FROM Cropdata \\\n",
    "                   WHERE GEO = \"Saskatchewan\" AND YEAR LIKE \"2000%\"\\\n",
    "                   ORDER BY avgYield DESC;', db\n",
    "                   )"
   ]
  },
  {
   "cell_type": "code",
   "execution_count": 11,
   "metadata": {},
   "outputs": [
    {
     "data": {
      "text/html": [
       "<div>\n",
       "<style scoped>\n",
       "    .dataframe tbody tr th:only-of-type {\n",
       "        vertical-align: middle;\n",
       "    }\n",
       "\n",
       "    .dataframe tbody tr th {\n",
       "        vertical-align: top;\n",
       "    }\n",
       "\n",
       "    .dataframe thead th {\n",
       "        text-align: right;\n",
       "    }\n",
       "</style>\n",
       "<table border=\"1\" class=\"dataframe\">\n",
       "  <thead>\n",
       "    <tr style=\"text-align: right;\">\n",
       "      <th></th>\n",
       "      <th>YEAR</th>\n",
       "      <th>cropType</th>\n",
       "      <th>GEO</th>\n",
       "      <th>seededArea</th>\n",
       "      <th>harvestedArea</th>\n",
       "      <th>production</th>\n",
       "      <th>avgYield</th>\n",
       "    </tr>\n",
       "    <tr>\n",
       "      <th>index</th>\n",
       "      <th></th>\n",
       "      <th></th>\n",
       "      <th></th>\n",
       "      <th></th>\n",
       "      <th></th>\n",
       "      <th></th>\n",
       "      <th></th>\n",
       "    </tr>\n",
       "  </thead>\n",
       "  <tbody>\n",
       "    <tr>\n",
       "      <th>0</th>\n",
       "      <td>1965-12-31</td>\n",
       "      <td>Barley</td>\n",
       "      <td>Alberta</td>\n",
       "      <td>1372000</td>\n",
       "      <td>1372000</td>\n",
       "      <td>2504000</td>\n",
       "      <td>1825</td>\n",
       "    </tr>\n",
       "    <tr>\n",
       "      <th>1</th>\n",
       "      <td>1965-12-31</td>\n",
       "      <td>Barley</td>\n",
       "      <td>Canada</td>\n",
       "      <td>2476800</td>\n",
       "      <td>2476800</td>\n",
       "      <td>4752900</td>\n",
       "      <td>1920</td>\n",
       "    </tr>\n",
       "    <tr>\n",
       "      <th>2</th>\n",
       "      <td>1965-12-31</td>\n",
       "      <td>Barley</td>\n",
       "      <td>Saskatchewan</td>\n",
       "      <td>708000</td>\n",
       "      <td>708000</td>\n",
       "      <td>1415000</td>\n",
       "      <td>2000</td>\n",
       "    </tr>\n",
       "    <tr>\n",
       "      <th>3</th>\n",
       "      <td>1965-12-31</td>\n",
       "      <td>Canola</td>\n",
       "      <td>Alberta</td>\n",
       "      <td>297400</td>\n",
       "      <td>297400</td>\n",
       "      <td>215500</td>\n",
       "      <td>725</td>\n",
       "    </tr>\n",
       "    <tr>\n",
       "      <th>4</th>\n",
       "      <td>1965-12-31</td>\n",
       "      <td>Canola</td>\n",
       "      <td>Canada</td>\n",
       "      <td>580700</td>\n",
       "      <td>580700</td>\n",
       "      <td>512600</td>\n",
       "      <td>885</td>\n",
       "    </tr>\n",
       "    <tr>\n",
       "      <th>...</th>\n",
       "      <td>...</td>\n",
       "      <td>...</td>\n",
       "      <td>...</td>\n",
       "      <td>...</td>\n",
       "      <td>...</td>\n",
       "      <td>...</td>\n",
       "      <td>...</td>\n",
       "    </tr>\n",
       "    <tr>\n",
       "      <th>667</th>\n",
       "      <td>2020-12-31</td>\n",
       "      <td>Rye</td>\n",
       "      <td>Canada</td>\n",
       "      <td>236700</td>\n",
       "      <td>153000</td>\n",
       "      <td>487800</td>\n",
       "      <td>3188</td>\n",
       "    </tr>\n",
       "    <tr>\n",
       "      <th>668</th>\n",
       "      <td>2020-12-31</td>\n",
       "      <td>Rye</td>\n",
       "      <td>Saskatchewan</td>\n",
       "      <td>58200</td>\n",
       "      <td>47400</td>\n",
       "      <td>122000</td>\n",
       "      <td>2572</td>\n",
       "    </tr>\n",
       "    <tr>\n",
       "      <th>669</th>\n",
       "      <td>2020-12-31</td>\n",
       "      <td>Wheat</td>\n",
       "      <td>Alberta</td>\n",
       "      <td>3014300</td>\n",
       "      <td>2944700</td>\n",
       "      <td>11041000</td>\n",
       "      <td>3750</td>\n",
       "    </tr>\n",
       "    <tr>\n",
       "      <th>670</th>\n",
       "      <td>2020-12-31</td>\n",
       "      <td>Wheat</td>\n",
       "      <td>Canada</td>\n",
       "      <td>10193600</td>\n",
       "      <td>10017800</td>\n",
       "      <td>35183000</td>\n",
       "      <td>3512</td>\n",
       "    </tr>\n",
       "    <tr>\n",
       "      <th>671</th>\n",
       "      <td>2020-12-31</td>\n",
       "      <td>Wheat</td>\n",
       "      <td>Saskatchewan</td>\n",
       "      <td>5203700</td>\n",
       "      <td>5175400</td>\n",
       "      <td>15984200</td>\n",
       "      <td>3088</td>\n",
       "    </tr>\n",
       "  </tbody>\n",
       "</table>\n",
       "<p>672 rows × 7 columns</p>\n",
       "</div>"
      ],
      "text/plain": [
       "            YEAR cropType           GEO  seededArea  harvestedArea  production  avgYield\n",
       "index                                                                                   \n",
       "0     1965-12-31   Barley       Alberta     1372000        1372000     2504000      1825\n",
       "1     1965-12-31   Barley        Canada     2476800        2476800     4752900      1920\n",
       "2     1965-12-31   Barley  Saskatchewan      708000         708000     1415000      2000\n",
       "3     1965-12-31   Canola       Alberta      297400         297400      215500       725\n",
       "4     1965-12-31   Canola        Canada      580700         580700      512600       885\n",
       "...          ...      ...           ...         ...            ...         ...       ...\n",
       "667   2020-12-31      Rye        Canada      236700         153000      487800      3188\n",
       "668   2020-12-31      Rye  Saskatchewan       58200          47400      122000      2572\n",
       "669   2020-12-31    Wheat       Alberta     3014300        2944700    11041000      3750\n",
       "670   2020-12-31    Wheat        Canada    10193600       10017800    35183000      3512\n",
       "671   2020-12-31    Wheat  Saskatchewan     5203700        5175400    15984200      3088\n",
       "\n",
       "[672 rows x 7 columns]"
      ]
     },
     "execution_count": 11,
     "metadata": {},
     "output_type": "execute_result"
    }
   ],
   "source": [
    "cropdata"
   ]
  },
  {
   "cell_type": "code",
   "execution_count": 12,
   "metadata": {},
   "outputs": [],
   "source": [
    "cropdata[\"year\"] = cropdata[\"YEAR\"].dt.year"
   ]
  },
  {
   "cell_type": "code",
   "execution_count": 13,
   "metadata": {},
   "outputs": [
    {
     "data": {
      "text/html": [
       "<div>\n",
       "<style scoped>\n",
       "    .dataframe tbody tr th:only-of-type {\n",
       "        vertical-align: middle;\n",
       "    }\n",
       "\n",
       "    .dataframe tbody tr th {\n",
       "        vertical-align: top;\n",
       "    }\n",
       "\n",
       "    .dataframe thead th {\n",
       "        text-align: right;\n",
       "    }\n",
       "</style>\n",
       "<table border=\"1\" class=\"dataframe\">\n",
       "  <thead>\n",
       "    <tr style=\"text-align: right;\">\n",
       "      <th></th>\n",
       "      <th>YEAR</th>\n",
       "      <th>cropType</th>\n",
       "      <th>GEO</th>\n",
       "      <th>seededArea</th>\n",
       "      <th>harvestedArea</th>\n",
       "      <th>production</th>\n",
       "      <th>avgYield</th>\n",
       "      <th>year</th>\n",
       "    </tr>\n",
       "    <tr>\n",
       "      <th>index</th>\n",
       "      <th></th>\n",
       "      <th></th>\n",
       "      <th></th>\n",
       "      <th></th>\n",
       "      <th></th>\n",
       "      <th></th>\n",
       "      <th></th>\n",
       "      <th></th>\n",
       "    </tr>\n",
       "  </thead>\n",
       "  <tbody>\n",
       "    <tr>\n",
       "      <th>0</th>\n",
       "      <td>1965-12-31</td>\n",
       "      <td>Barley</td>\n",
       "      <td>Alberta</td>\n",
       "      <td>1372000</td>\n",
       "      <td>1372000</td>\n",
       "      <td>2504000</td>\n",
       "      <td>1825</td>\n",
       "      <td>1965</td>\n",
       "    </tr>\n",
       "    <tr>\n",
       "      <th>1</th>\n",
       "      <td>1965-12-31</td>\n",
       "      <td>Barley</td>\n",
       "      <td>Canada</td>\n",
       "      <td>2476800</td>\n",
       "      <td>2476800</td>\n",
       "      <td>4752900</td>\n",
       "      <td>1920</td>\n",
       "      <td>1965</td>\n",
       "    </tr>\n",
       "    <tr>\n",
       "      <th>2</th>\n",
       "      <td>1965-12-31</td>\n",
       "      <td>Barley</td>\n",
       "      <td>Saskatchewan</td>\n",
       "      <td>708000</td>\n",
       "      <td>708000</td>\n",
       "      <td>1415000</td>\n",
       "      <td>2000</td>\n",
       "      <td>1965</td>\n",
       "    </tr>\n",
       "    <tr>\n",
       "      <th>3</th>\n",
       "      <td>1965-12-31</td>\n",
       "      <td>Canola</td>\n",
       "      <td>Alberta</td>\n",
       "      <td>297400</td>\n",
       "      <td>297400</td>\n",
       "      <td>215500</td>\n",
       "      <td>725</td>\n",
       "      <td>1965</td>\n",
       "    </tr>\n",
       "    <tr>\n",
       "      <th>4</th>\n",
       "      <td>1965-12-31</td>\n",
       "      <td>Canola</td>\n",
       "      <td>Canada</td>\n",
       "      <td>580700</td>\n",
       "      <td>580700</td>\n",
       "      <td>512600</td>\n",
       "      <td>885</td>\n",
       "      <td>1965</td>\n",
       "    </tr>\n",
       "  </tbody>\n",
       "</table>\n",
       "</div>"
      ],
      "text/plain": [
       "            YEAR cropType           GEO  seededArea  harvestedArea  production  avgYield  year\n",
       "index                                                                                         \n",
       "0     1965-12-31   Barley       Alberta     1372000        1372000     2504000      1825  1965\n",
       "1     1965-12-31   Barley        Canada     2476800        2476800     4752900      1920  1965\n",
       "2     1965-12-31   Barley  Saskatchewan      708000         708000     1415000      2000  1965\n",
       "3     1965-12-31   Canola       Alberta      297400         297400      215500       725  1965\n",
       "4     1965-12-31   Canola        Canada      580700         580700      512600       885  1965"
      ]
     },
     "execution_count": 13,
     "metadata": {},
     "output_type": "execute_result"
    }
   ],
   "source": [
    "cropdata.head()"
   ]
  },
  {
   "cell_type": "code",
   "execution_count": 14,
   "metadata": {},
   "outputs": [],
   "source": [
    "year2000 = cropdata[cropdata[\"year\"] == 2000]"
   ]
  },
  {
   "cell_type": "code",
   "execution_count": 15,
   "metadata": {},
   "outputs": [
    {
     "data": {
      "text/html": [
       "<div>\n",
       "<style scoped>\n",
       "    .dataframe tbody tr th:only-of-type {\n",
       "        vertical-align: middle;\n",
       "    }\n",
       "\n",
       "    .dataframe tbody tr th {\n",
       "        vertical-align: top;\n",
       "    }\n",
       "\n",
       "    .dataframe thead th {\n",
       "        text-align: right;\n",
       "    }\n",
       "</style>\n",
       "<table border=\"1\" class=\"dataframe\">\n",
       "  <thead>\n",
       "    <tr style=\"text-align: right;\">\n",
       "      <th></th>\n",
       "      <th>YEAR</th>\n",
       "      <th>cropType</th>\n",
       "      <th>GEO</th>\n",
       "      <th>seededArea</th>\n",
       "      <th>harvestedArea</th>\n",
       "      <th>production</th>\n",
       "      <th>avgYield</th>\n",
       "      <th>year</th>\n",
       "    </tr>\n",
       "    <tr>\n",
       "      <th>index</th>\n",
       "      <th></th>\n",
       "      <th></th>\n",
       "      <th></th>\n",
       "      <th></th>\n",
       "      <th></th>\n",
       "      <th></th>\n",
       "      <th></th>\n",
       "      <th></th>\n",
       "    </tr>\n",
       "  </thead>\n",
       "  <tbody>\n",
       "    <tr>\n",
       "      <th>420</th>\n",
       "      <td>2000-12-31</td>\n",
       "      <td>Barley</td>\n",
       "      <td>Alberta</td>\n",
       "      <td>2185300</td>\n",
       "      <td>1740100</td>\n",
       "      <td>5268900</td>\n",
       "      <td>3000</td>\n",
       "      <td>2000</td>\n",
       "    </tr>\n",
       "    <tr>\n",
       "      <th>421</th>\n",
       "      <td>2000-12-31</td>\n",
       "      <td>Barley</td>\n",
       "      <td>Canada</td>\n",
       "      <td>5101300</td>\n",
       "      <td>4468100</td>\n",
       "      <td>13228600</td>\n",
       "      <td>3000</td>\n",
       "      <td>2000</td>\n",
       "    </tr>\n",
       "    <tr>\n",
       "      <th>422</th>\n",
       "      <td>2000-12-31</td>\n",
       "      <td>Barley</td>\n",
       "      <td>Saskatchewan</td>\n",
       "      <td>2063900</td>\n",
       "      <td>1922300</td>\n",
       "      <td>5301600</td>\n",
       "      <td>2800</td>\n",
       "      <td>2000</td>\n",
       "    </tr>\n",
       "    <tr>\n",
       "      <th>423</th>\n",
       "      <td>2000-12-31</td>\n",
       "      <td>Canola</td>\n",
       "      <td>Alberta</td>\n",
       "      <td>1537800</td>\n",
       "      <td>1497300</td>\n",
       "      <td>2188600</td>\n",
       "      <td>1500</td>\n",
       "      <td>2000</td>\n",
       "    </tr>\n",
       "    <tr>\n",
       "      <th>424</th>\n",
       "      <td>2000-12-31</td>\n",
       "      <td>Canola</td>\n",
       "      <td>Canada</td>\n",
       "      <td>4937000</td>\n",
       "      <td>4859200</td>\n",
       "      <td>7205300</td>\n",
       "      <td>1500</td>\n",
       "      <td>2000</td>\n",
       "    </tr>\n",
       "    <tr>\n",
       "      <th>425</th>\n",
       "      <td>2000-12-31</td>\n",
       "      <td>Canola</td>\n",
       "      <td>Saskatchewan</td>\n",
       "      <td>2387600</td>\n",
       "      <td>2371500</td>\n",
       "      <td>3424600</td>\n",
       "      <td>1400</td>\n",
       "      <td>2000</td>\n",
       "    </tr>\n",
       "    <tr>\n",
       "      <th>426</th>\n",
       "      <td>2000-12-31</td>\n",
       "      <td>Rye</td>\n",
       "      <td>Alberta</td>\n",
       "      <td>50600</td>\n",
       "      <td>20200</td>\n",
       "      <td>42500</td>\n",
       "      <td>2100</td>\n",
       "      <td>2000</td>\n",
       "    </tr>\n",
       "    <tr>\n",
       "      <th>427</th>\n",
       "      <td>2000-12-31</td>\n",
       "      <td>Rye</td>\n",
       "      <td>Canada</td>\n",
       "      <td>188200</td>\n",
       "      <td>114500</td>\n",
       "      <td>260300</td>\n",
       "      <td>2300</td>\n",
       "      <td>2000</td>\n",
       "    </tr>\n",
       "    <tr>\n",
       "      <th>428</th>\n",
       "      <td>2000-12-31</td>\n",
       "      <td>Rye</td>\n",
       "      <td>Saskatchewan</td>\n",
       "      <td>66800</td>\n",
       "      <td>46500</td>\n",
       "      <td>97800</td>\n",
       "      <td>2100</td>\n",
       "      <td>2000</td>\n",
       "    </tr>\n",
       "    <tr>\n",
       "      <th>429</th>\n",
       "      <td>2000-12-31</td>\n",
       "      <td>Wheat</td>\n",
       "      <td>Alberta</td>\n",
       "      <td>2930700</td>\n",
       "      <td>2811300</td>\n",
       "      <td>7123700</td>\n",
       "      <td>2500</td>\n",
       "      <td>2000</td>\n",
       "    </tr>\n",
       "    <tr>\n",
       "      <th>430</th>\n",
       "      <td>2000-12-31</td>\n",
       "      <td>Wheat</td>\n",
       "      <td>Canada</td>\n",
       "      <td>11072200</td>\n",
       "      <td>10854800</td>\n",
       "      <td>26535500</td>\n",
       "      <td>2400</td>\n",
       "      <td>2000</td>\n",
       "    </tr>\n",
       "    <tr>\n",
       "      <th>431</th>\n",
       "      <td>2000-12-31</td>\n",
       "      <td>Wheat</td>\n",
       "      <td>Saskatchewan</td>\n",
       "      <td>6145100</td>\n",
       "      <td>6080300</td>\n",
       "      <td>13411800</td>\n",
       "      <td>2200</td>\n",
       "      <td>2000</td>\n",
       "    </tr>\n",
       "  </tbody>\n",
       "</table>\n",
       "</div>"
      ],
      "text/plain": [
       "            YEAR cropType           GEO  seededArea  harvestedArea  production  avgYield  year\n",
       "index                                                                                         \n",
       "420   2000-12-31   Barley       Alberta     2185300        1740100     5268900      3000  2000\n",
       "421   2000-12-31   Barley        Canada     5101300        4468100    13228600      3000  2000\n",
       "422   2000-12-31   Barley  Saskatchewan     2063900        1922300     5301600      2800  2000\n",
       "423   2000-12-31   Canola       Alberta     1537800        1497300     2188600      1500  2000\n",
       "424   2000-12-31   Canola        Canada     4937000        4859200     7205300      1500  2000\n",
       "425   2000-12-31   Canola  Saskatchewan     2387600        2371500     3424600      1400  2000\n",
       "426   2000-12-31      Rye       Alberta       50600          20200       42500      2100  2000\n",
       "427   2000-12-31      Rye        Canada      188200         114500      260300      2300  2000\n",
       "428   2000-12-31      Rye  Saskatchewan       66800          46500       97800      2100  2000\n",
       "429   2000-12-31    Wheat       Alberta     2930700        2811300     7123700      2500  2000\n",
       "430   2000-12-31    Wheat        Canada    11072200       10854800    26535500      2400  2000\n",
       "431   2000-12-31    Wheat  Saskatchewan     6145100        6080300    13411800      2200  2000"
      ]
     },
     "execution_count": 15,
     "metadata": {},
     "output_type": "execute_result"
    }
   ],
   "source": [
    "year2000"
   ]
  },
  {
   "cell_type": "code",
   "execution_count": 16,
   "metadata": {},
   "outputs": [
    {
     "data": {
      "text/html": [
       "<div>\n",
       "<style scoped>\n",
       "    .dataframe tbody tr th:only-of-type {\n",
       "        vertical-align: middle;\n",
       "    }\n",
       "\n",
       "    .dataframe tbody tr th {\n",
       "        vertical-align: top;\n",
       "    }\n",
       "\n",
       "    .dataframe thead th {\n",
       "        text-align: right;\n",
       "    }\n",
       "</style>\n",
       "<table border=\"1\" class=\"dataframe\">\n",
       "  <thead>\n",
       "    <tr style=\"text-align: right;\">\n",
       "      <th></th>\n",
       "      <th>YEAR</th>\n",
       "      <th>cropType</th>\n",
       "      <th>GEO</th>\n",
       "      <th>seededArea</th>\n",
       "      <th>harvestedArea</th>\n",
       "      <th>production</th>\n",
       "      <th>avgYield</th>\n",
       "      <th>year</th>\n",
       "    </tr>\n",
       "    <tr>\n",
       "      <th>index</th>\n",
       "      <th></th>\n",
       "      <th></th>\n",
       "      <th></th>\n",
       "      <th></th>\n",
       "      <th></th>\n",
       "      <th></th>\n",
       "      <th></th>\n",
       "      <th></th>\n",
       "    </tr>\n",
       "  </thead>\n",
       "  <tbody>\n",
       "    <tr>\n",
       "      <th>425</th>\n",
       "      <td>2000-12-31</td>\n",
       "      <td>Canola</td>\n",
       "      <td>Saskatchewan</td>\n",
       "      <td>2387600</td>\n",
       "      <td>2371500</td>\n",
       "      <td>3424600</td>\n",
       "      <td>1400</td>\n",
       "      <td>2000</td>\n",
       "    </tr>\n",
       "    <tr>\n",
       "      <th>428</th>\n",
       "      <td>2000-12-31</td>\n",
       "      <td>Rye</td>\n",
       "      <td>Saskatchewan</td>\n",
       "      <td>66800</td>\n",
       "      <td>46500</td>\n",
       "      <td>97800</td>\n",
       "      <td>2100</td>\n",
       "      <td>2000</td>\n",
       "    </tr>\n",
       "    <tr>\n",
       "      <th>431</th>\n",
       "      <td>2000-12-31</td>\n",
       "      <td>Wheat</td>\n",
       "      <td>Saskatchewan</td>\n",
       "      <td>6145100</td>\n",
       "      <td>6080300</td>\n",
       "      <td>13411800</td>\n",
       "      <td>2200</td>\n",
       "      <td>2000</td>\n",
       "    </tr>\n",
       "    <tr>\n",
       "      <th>422</th>\n",
       "      <td>2000-12-31</td>\n",
       "      <td>Barley</td>\n",
       "      <td>Saskatchewan</td>\n",
       "      <td>2063900</td>\n",
       "      <td>1922300</td>\n",
       "      <td>5301600</td>\n",
       "      <td>2800</td>\n",
       "      <td>2000</td>\n",
       "    </tr>\n",
       "  </tbody>\n",
       "</table>\n",
       "</div>"
      ],
      "text/plain": [
       "            YEAR cropType           GEO  seededArea  harvestedArea  production  avgYield  year\n",
       "index                                                                                         \n",
       "425   2000-12-31   Canola  Saskatchewan     2387600        2371500     3424600      1400  2000\n",
       "428   2000-12-31      Rye  Saskatchewan       66800          46500       97800      2100  2000\n",
       "431   2000-12-31    Wheat  Saskatchewan     6145100        6080300    13411800      2200  2000\n",
       "422   2000-12-31   Barley  Saskatchewan     2063900        1922300     5301600      2800  2000"
      ]
     },
     "execution_count": 16,
     "metadata": {},
     "output_type": "execute_result"
    }
   ],
   "source": [
    "year2000[year2000[\"GEO\"] == \"Saskatchewan\"].sort_values(by='avgYield')"
   ]
  },
  {
   "cell_type": "markdown",
   "metadata": {},
   "source": [
    "## Problem 11\n",
    "\n",
    "#### Rank the crops and geographies by their average yield (KG per hectare) since the year 2000. Which crop and province had the highest average yield since the year 2000?\n"
   ]
  },
  {
   "cell_type": "markdown",
   "metadata": {},
   "source": [
    "### Solution 11\n"
   ]
  },
  {
   "cell_type": "code",
   "execution_count": null,
   "metadata": {},
   "outputs": [],
   "source": [
    "pd.read_sql_query('SELECT cropType, avgYield \\\n",
    "                   FROM Cropdata \\\n",
    "                   WHERE YEAR >= 2000 \\\n",
    "                   GROUP BY cropType, GEO \\\n",
    "                   ORDER BY avgYield DESC \\\n",
    "                   ;', db\n",
    "                   )"
   ]
  },
  {
   "cell_type": "code",
   "execution_count": null,
   "metadata": {},
   "outputs": [],
   "source": []
  },
  {
   "cell_type": "code",
   "execution_count": null,
   "metadata": {},
   "outputs": [],
   "source": [
    "rank = cropdata[cropdata[\"year\"] >= 2000]\n",
    "rank"
   ]
  },
  {
   "cell_type": "code",
   "execution_count": null,
   "metadata": {},
   "outputs": [],
   "source": [
    "rank.groupby(['cropType','GEO'])['avgYield'].max().sort_values()"
   ]
  },
  {
   "cell_type": "markdown",
   "metadata": {},
   "source": [
    "## Problem 12\n",
    "\n",
    "#### Use a subquery to determine how much wheat was harvested in Canada in the most recent year of the data.\n"
   ]
  },
  {
   "cell_type": "markdown",
   "metadata": {},
   "source": [
    "### Solution 12\n"
   ]
  },
  {
   "cell_type": "code",
   "execution_count": 17,
   "metadata": {},
   "outputs": [
    {
     "data": {
      "text/html": [
       "<div>\n",
       "<style scoped>\n",
       "    .dataframe tbody tr th:only-of-type {\n",
       "        vertical-align: middle;\n",
       "    }\n",
       "\n",
       "    .dataframe tbody tr th {\n",
       "        vertical-align: top;\n",
       "    }\n",
       "\n",
       "    .dataframe thead th {\n",
       "        text-align: right;\n",
       "    }\n",
       "</style>\n",
       "<table border=\"1\" class=\"dataframe\">\n",
       "  <thead>\n",
       "    <tr style=\"text-align: right;\">\n",
       "      <th></th>\n",
       "      <th>YEAR</th>\n",
       "      <th>cropType</th>\n",
       "      <th>SUM(harvestedArea)</th>\n",
       "      <th>Province</th>\n",
       "    </tr>\n",
       "  </thead>\n",
       "  <tbody>\n",
       "    <tr>\n",
       "      <th>0</th>\n",
       "      <td>2020-12-31 00:00:00</td>\n",
       "      <td>Wheat</td>\n",
       "      <td>18137900</td>\n",
       "      <td>Canada</td>\n",
       "    </tr>\n",
       "  </tbody>\n",
       "</table>\n",
       "</div>"
      ],
      "text/plain": [
       "                  YEAR cropType  SUM(harvestedArea) Province\n",
       "0  2020-12-31 00:00:00    Wheat            18137900   Canada"
      ]
     },
     "execution_count": 17,
     "metadata": {},
     "output_type": "execute_result"
    }
   ],
   "source": [
    "pd.read_sql_query('SELECT YEAR, cropType, SUM(harvestedArea), \\\n",
    "                      (SELECT GEO FROM Cropdata\\\n",
    "                       WHERE GEO = \"Canada\") AS Province\\\n",
    "                   FROM Cropdata \\\n",
    "                   WHERE cropType = \"Wheat\" AND YEAR LIKE \"2020%\";'                \n",
    "                   , db\n",
    "                   )"
   ]
  },
  {
   "cell_type": "code",
   "execution_count": 18,
   "metadata": {},
   "outputs": [
    {
     "data": {
      "text/html": [
       "<div>\n",
       "<style scoped>\n",
       "    .dataframe tbody tr th:only-of-type {\n",
       "        vertical-align: middle;\n",
       "    }\n",
       "\n",
       "    .dataframe tbody tr th {\n",
       "        vertical-align: top;\n",
       "    }\n",
       "\n",
       "    .dataframe thead th {\n",
       "        text-align: right;\n",
       "    }\n",
       "</style>\n",
       "<table border=\"1\" class=\"dataframe\">\n",
       "  <thead>\n",
       "    <tr style=\"text-align: right;\">\n",
       "      <th></th>\n",
       "      <th>YEAR</th>\n",
       "      <th>cropType</th>\n",
       "      <th>GEO</th>\n",
       "      <th>seededArea</th>\n",
       "      <th>harvestedArea</th>\n",
       "      <th>production</th>\n",
       "      <th>avgYield</th>\n",
       "      <th>year</th>\n",
       "    </tr>\n",
       "    <tr>\n",
       "      <th>index</th>\n",
       "      <th></th>\n",
       "      <th></th>\n",
       "      <th></th>\n",
       "      <th></th>\n",
       "      <th></th>\n",
       "      <th></th>\n",
       "      <th></th>\n",
       "      <th></th>\n",
       "    </tr>\n",
       "  </thead>\n",
       "  <tbody>\n",
       "    <tr>\n",
       "      <th>0</th>\n",
       "      <td>1965-12-31</td>\n",
       "      <td>Barley</td>\n",
       "      <td>Alberta</td>\n",
       "      <td>1372000</td>\n",
       "      <td>1372000</td>\n",
       "      <td>2504000</td>\n",
       "      <td>1825</td>\n",
       "      <td>1965</td>\n",
       "    </tr>\n",
       "    <tr>\n",
       "      <th>1</th>\n",
       "      <td>1965-12-31</td>\n",
       "      <td>Barley</td>\n",
       "      <td>Canada</td>\n",
       "      <td>2476800</td>\n",
       "      <td>2476800</td>\n",
       "      <td>4752900</td>\n",
       "      <td>1920</td>\n",
       "      <td>1965</td>\n",
       "    </tr>\n",
       "    <tr>\n",
       "      <th>2</th>\n",
       "      <td>1965-12-31</td>\n",
       "      <td>Barley</td>\n",
       "      <td>Saskatchewan</td>\n",
       "      <td>708000</td>\n",
       "      <td>708000</td>\n",
       "      <td>1415000</td>\n",
       "      <td>2000</td>\n",
       "      <td>1965</td>\n",
       "    </tr>\n",
       "    <tr>\n",
       "      <th>3</th>\n",
       "      <td>1965-12-31</td>\n",
       "      <td>Canola</td>\n",
       "      <td>Alberta</td>\n",
       "      <td>297400</td>\n",
       "      <td>297400</td>\n",
       "      <td>215500</td>\n",
       "      <td>725</td>\n",
       "      <td>1965</td>\n",
       "    </tr>\n",
       "    <tr>\n",
       "      <th>4</th>\n",
       "      <td>1965-12-31</td>\n",
       "      <td>Canola</td>\n",
       "      <td>Canada</td>\n",
       "      <td>580700</td>\n",
       "      <td>580700</td>\n",
       "      <td>512600</td>\n",
       "      <td>885</td>\n",
       "      <td>1965</td>\n",
       "    </tr>\n",
       "    <tr>\n",
       "      <th>...</th>\n",
       "      <td>...</td>\n",
       "      <td>...</td>\n",
       "      <td>...</td>\n",
       "      <td>...</td>\n",
       "      <td>...</td>\n",
       "      <td>...</td>\n",
       "      <td>...</td>\n",
       "      <td>...</td>\n",
       "    </tr>\n",
       "    <tr>\n",
       "      <th>667</th>\n",
       "      <td>2020-12-31</td>\n",
       "      <td>Rye</td>\n",
       "      <td>Canada</td>\n",
       "      <td>236700</td>\n",
       "      <td>153000</td>\n",
       "      <td>487800</td>\n",
       "      <td>3188</td>\n",
       "      <td>2020</td>\n",
       "    </tr>\n",
       "    <tr>\n",
       "      <th>668</th>\n",
       "      <td>2020-12-31</td>\n",
       "      <td>Rye</td>\n",
       "      <td>Saskatchewan</td>\n",
       "      <td>58200</td>\n",
       "      <td>47400</td>\n",
       "      <td>122000</td>\n",
       "      <td>2572</td>\n",
       "      <td>2020</td>\n",
       "    </tr>\n",
       "    <tr>\n",
       "      <th>669</th>\n",
       "      <td>2020-12-31</td>\n",
       "      <td>Wheat</td>\n",
       "      <td>Alberta</td>\n",
       "      <td>3014300</td>\n",
       "      <td>2944700</td>\n",
       "      <td>11041000</td>\n",
       "      <td>3750</td>\n",
       "      <td>2020</td>\n",
       "    </tr>\n",
       "    <tr>\n",
       "      <th>670</th>\n",
       "      <td>2020-12-31</td>\n",
       "      <td>Wheat</td>\n",
       "      <td>Canada</td>\n",
       "      <td>10193600</td>\n",
       "      <td>10017800</td>\n",
       "      <td>35183000</td>\n",
       "      <td>3512</td>\n",
       "      <td>2020</td>\n",
       "    </tr>\n",
       "    <tr>\n",
       "      <th>671</th>\n",
       "      <td>2020-12-31</td>\n",
       "      <td>Wheat</td>\n",
       "      <td>Saskatchewan</td>\n",
       "      <td>5203700</td>\n",
       "      <td>5175400</td>\n",
       "      <td>15984200</td>\n",
       "      <td>3088</td>\n",
       "      <td>2020</td>\n",
       "    </tr>\n",
       "  </tbody>\n",
       "</table>\n",
       "<p>672 rows × 8 columns</p>\n",
       "</div>"
      ],
      "text/plain": [
       "            YEAR cropType           GEO  seededArea  harvestedArea  production  avgYield  year\n",
       "index                                                                                         \n",
       "0     1965-12-31   Barley       Alberta     1372000        1372000     2504000      1825  1965\n",
       "1     1965-12-31   Barley        Canada     2476800        2476800     4752900      1920  1965\n",
       "2     1965-12-31   Barley  Saskatchewan      708000         708000     1415000      2000  1965\n",
       "3     1965-12-31   Canola       Alberta      297400         297400      215500       725  1965\n",
       "4     1965-12-31   Canola        Canada      580700         580700      512600       885  1965\n",
       "...          ...      ...           ...         ...            ...         ...       ...   ...\n",
       "667   2020-12-31      Rye        Canada      236700         153000      487800      3188  2020\n",
       "668   2020-12-31      Rye  Saskatchewan       58200          47400      122000      2572  2020\n",
       "669   2020-12-31    Wheat       Alberta     3014300        2944700    11041000      3750  2020\n",
       "670   2020-12-31    Wheat        Canada    10193600       10017800    35183000      3512  2020\n",
       "671   2020-12-31    Wheat  Saskatchewan     5203700        5175400    15984200      3088  2020\n",
       "\n",
       "[672 rows x 8 columns]"
      ]
     },
     "execution_count": 18,
     "metadata": {},
     "output_type": "execute_result"
    }
   ],
   "source": [
    "cropdata"
   ]
  },
  {
   "cell_type": "code",
   "execution_count": 19,
   "metadata": {},
   "outputs": [],
   "source": [
    "year2020 = cropdata[cropdata[\"year\"] == 2020]"
   ]
  },
  {
   "cell_type": "code",
   "execution_count": 20,
   "metadata": {},
   "outputs": [
    {
     "data": {
      "text/html": [
       "<div>\n",
       "<style scoped>\n",
       "    .dataframe tbody tr th:only-of-type {\n",
       "        vertical-align: middle;\n",
       "    }\n",
       "\n",
       "    .dataframe tbody tr th {\n",
       "        vertical-align: top;\n",
       "    }\n",
       "\n",
       "    .dataframe thead th {\n",
       "        text-align: right;\n",
       "    }\n",
       "</style>\n",
       "<table border=\"1\" class=\"dataframe\">\n",
       "  <thead>\n",
       "    <tr style=\"text-align: right;\">\n",
       "      <th></th>\n",
       "      <th>YEAR</th>\n",
       "      <th>cropType</th>\n",
       "      <th>GEO</th>\n",
       "      <th>seededArea</th>\n",
       "      <th>harvestedArea</th>\n",
       "      <th>production</th>\n",
       "      <th>avgYield</th>\n",
       "      <th>year</th>\n",
       "    </tr>\n",
       "    <tr>\n",
       "      <th>index</th>\n",
       "      <th></th>\n",
       "      <th></th>\n",
       "      <th></th>\n",
       "      <th></th>\n",
       "      <th></th>\n",
       "      <th></th>\n",
       "      <th></th>\n",
       "      <th></th>\n",
       "    </tr>\n",
       "  </thead>\n",
       "  <tbody>\n",
       "    <tr>\n",
       "      <th>660</th>\n",
       "      <td>2020-12-31</td>\n",
       "      <td>Barley</td>\n",
       "      <td>Alberta</td>\n",
       "      <td>1481800</td>\n",
       "      <td>1326200</td>\n",
       "      <td>5283000</td>\n",
       "      <td>3980</td>\n",
       "      <td>2020</td>\n",
       "    </tr>\n",
       "    <tr>\n",
       "      <th>661</th>\n",
       "      <td>2020-12-31</td>\n",
       "      <td>Barley</td>\n",
       "      <td>Canada</td>\n",
       "      <td>3059900</td>\n",
       "      <td>2808700</td>\n",
       "      <td>10740600</td>\n",
       "      <td>3820</td>\n",
       "      <td>2020</td>\n",
       "    </tr>\n",
       "    <tr>\n",
       "      <th>662</th>\n",
       "      <td>2020-12-31</td>\n",
       "      <td>Barley</td>\n",
       "      <td>Saskatchewan</td>\n",
       "      <td>1264400</td>\n",
       "      <td>1187300</td>\n",
       "      <td>4385100</td>\n",
       "      <td>3690</td>\n",
       "      <td>2020</td>\n",
       "    </tr>\n",
       "    <tr>\n",
       "      <th>663</th>\n",
       "      <td>2020-12-31</td>\n",
       "      <td>Canola</td>\n",
       "      <td>Alberta</td>\n",
       "      <td>2377900</td>\n",
       "      <td>2313500</td>\n",
       "      <td>5212100</td>\n",
       "      <td>2253</td>\n",
       "      <td>2020</td>\n",
       "    </tr>\n",
       "    <tr>\n",
       "      <th>664</th>\n",
       "      <td>2020-12-31</td>\n",
       "      <td>Canola</td>\n",
       "      <td>Canada</td>\n",
       "      <td>8410400</td>\n",
       "      <td>8319800</td>\n",
       "      <td>18719700</td>\n",
       "      <td>2250</td>\n",
       "      <td>2020</td>\n",
       "    </tr>\n",
       "    <tr>\n",
       "      <th>665</th>\n",
       "      <td>2020-12-31</td>\n",
       "      <td>Canola</td>\n",
       "      <td>Saskatchewan</td>\n",
       "      <td>4588800</td>\n",
       "      <td>4574100</td>\n",
       "      <td>10202900</td>\n",
       "      <td>2231</td>\n",
       "      <td>2020</td>\n",
       "    </tr>\n",
       "    <tr>\n",
       "      <th>666</th>\n",
       "      <td>2020-12-31</td>\n",
       "      <td>Rye</td>\n",
       "      <td>Alberta</td>\n",
       "      <td>41600</td>\n",
       "      <td>29200</td>\n",
       "      <td>107400</td>\n",
       "      <td>3691</td>\n",
       "      <td>2020</td>\n",
       "    </tr>\n",
       "    <tr>\n",
       "      <th>667</th>\n",
       "      <td>2020-12-31</td>\n",
       "      <td>Rye</td>\n",
       "      <td>Canada</td>\n",
       "      <td>236700</td>\n",
       "      <td>153000</td>\n",
       "      <td>487800</td>\n",
       "      <td>3188</td>\n",
       "      <td>2020</td>\n",
       "    </tr>\n",
       "    <tr>\n",
       "      <th>668</th>\n",
       "      <td>2020-12-31</td>\n",
       "      <td>Rye</td>\n",
       "      <td>Saskatchewan</td>\n",
       "      <td>58200</td>\n",
       "      <td>47400</td>\n",
       "      <td>122000</td>\n",
       "      <td>2572</td>\n",
       "      <td>2020</td>\n",
       "    </tr>\n",
       "    <tr>\n",
       "      <th>669</th>\n",
       "      <td>2020-12-31</td>\n",
       "      <td>Wheat</td>\n",
       "      <td>Alberta</td>\n",
       "      <td>3014300</td>\n",
       "      <td>2944700</td>\n",
       "      <td>11041000</td>\n",
       "      <td>3750</td>\n",
       "      <td>2020</td>\n",
       "    </tr>\n",
       "    <tr>\n",
       "      <th>670</th>\n",
       "      <td>2020-12-31</td>\n",
       "      <td>Wheat</td>\n",
       "      <td>Canada</td>\n",
       "      <td>10193600</td>\n",
       "      <td>10017800</td>\n",
       "      <td>35183000</td>\n",
       "      <td>3512</td>\n",
       "      <td>2020</td>\n",
       "    </tr>\n",
       "    <tr>\n",
       "      <th>671</th>\n",
       "      <td>2020-12-31</td>\n",
       "      <td>Wheat</td>\n",
       "      <td>Saskatchewan</td>\n",
       "      <td>5203700</td>\n",
       "      <td>5175400</td>\n",
       "      <td>15984200</td>\n",
       "      <td>3088</td>\n",
       "      <td>2020</td>\n",
       "    </tr>\n",
       "  </tbody>\n",
       "</table>\n",
       "</div>"
      ],
      "text/plain": [
       "            YEAR cropType           GEO  seededArea  harvestedArea  production  avgYield  year\n",
       "index                                                                                         \n",
       "660   2020-12-31   Barley       Alberta     1481800        1326200     5283000      3980  2020\n",
       "661   2020-12-31   Barley        Canada     3059900        2808700    10740600      3820  2020\n",
       "662   2020-12-31   Barley  Saskatchewan     1264400        1187300     4385100      3690  2020\n",
       "663   2020-12-31   Canola       Alberta     2377900        2313500     5212100      2253  2020\n",
       "664   2020-12-31   Canola        Canada     8410400        8319800    18719700      2250  2020\n",
       "665   2020-12-31   Canola  Saskatchewan     4588800        4574100    10202900      2231  2020\n",
       "666   2020-12-31      Rye       Alberta       41600          29200      107400      3691  2020\n",
       "667   2020-12-31      Rye        Canada      236700         153000      487800      3188  2020\n",
       "668   2020-12-31      Rye  Saskatchewan       58200          47400      122000      2572  2020\n",
       "669   2020-12-31    Wheat       Alberta     3014300        2944700    11041000      3750  2020\n",
       "670   2020-12-31    Wheat        Canada    10193600       10017800    35183000      3512  2020\n",
       "671   2020-12-31    Wheat  Saskatchewan     5203700        5175400    15984200      3088  2020"
      ]
     },
     "execution_count": 20,
     "metadata": {},
     "output_type": "execute_result"
    }
   ],
   "source": [
    "year2020"
   ]
  },
  {
   "cell_type": "code",
   "execution_count": 27,
   "metadata": {},
   "outputs": [
    {
     "data": {
      "text/plain": [
       "cropType  GEO         \n",
       "Barley    Alberta          1326200\n",
       "          Canada           2808700\n",
       "          Saskatchewan     1187300\n",
       "Canola    Alberta          2313500\n",
       "          Canada           8319800\n",
       "          Saskatchewan     4574100\n",
       "Rye       Alberta            29200\n",
       "          Canada            153000\n",
       "          Saskatchewan       47400\n",
       "Wheat     Alberta          2944700\n",
       "          Canada          10017800\n",
       "          Saskatchewan     5175400\n",
       "Name: harvestedArea, dtype: int64"
      ]
     },
     "execution_count": 27,
     "metadata": {},
     "output_type": "execute_result"
    }
   ],
   "source": [
    "year2020.groupby([\"cropType\",\"GEO\"])[\"harvestedArea\"].sum()"
   ]
  },
  {
   "cell_type": "markdown",
   "metadata": {},
   "source": [
    "## Problem 13\n",
    "\n",
    "#### Use an implicit inner join to calculate the monthly price per metric tonne of Canola grown in Saskatchewan in both Canadian and US dollars. Display the most recent 6 months of the data.\n"
   ]
  },
  {
   "cell_type": "markdown",
   "metadata": {},
   "source": [
    "### Solution 13\n"
   ]
  },
  {
   "cell_type": "code",
   "execution_count": 28,
   "metadata": {},
   "outputs": [],
   "source": [
    "dailyfx = pd.read_sql_query('SELECT * FROM Dailyfx', db , index_col='index', parse_dates='date')"
   ]
  },
  {
   "cell_type": "code",
   "execution_count": 29,
   "metadata": {},
   "outputs": [
    {
     "data": {
      "text/html": [
       "<div>\n",
       "<style scoped>\n",
       "    .dataframe tbody tr th:only-of-type {\n",
       "        vertical-align: middle;\n",
       "    }\n",
       "\n",
       "    .dataframe tbody tr th {\n",
       "        vertical-align: top;\n",
       "    }\n",
       "\n",
       "    .dataframe thead th {\n",
       "        text-align: right;\n",
       "    }\n",
       "</style>\n",
       "<table border=\"1\" class=\"dataframe\">\n",
       "  <thead>\n",
       "    <tr style=\"text-align: right;\">\n",
       "      <th></th>\n",
       "      <th>date</th>\n",
       "      <th>FXUSDCAD</th>\n",
       "    </tr>\n",
       "    <tr>\n",
       "      <th>index</th>\n",
       "      <th></th>\n",
       "      <th></th>\n",
       "    </tr>\n",
       "  </thead>\n",
       "  <tbody>\n",
       "    <tr>\n",
       "      <th>0</th>\n",
       "      <td>2017-01-03</td>\n",
       "      <td>1.34</td>\n",
       "    </tr>\n",
       "    <tr>\n",
       "      <th>1</th>\n",
       "      <td>2017-01-04</td>\n",
       "      <td>1.33</td>\n",
       "    </tr>\n",
       "    <tr>\n",
       "      <th>2</th>\n",
       "      <td>2017-01-05</td>\n",
       "      <td>1.32</td>\n",
       "    </tr>\n",
       "    <tr>\n",
       "      <th>3</th>\n",
       "      <td>2017-01-06</td>\n",
       "      <td>1.32</td>\n",
       "    </tr>\n",
       "    <tr>\n",
       "      <th>4</th>\n",
       "      <td>2017-01-09</td>\n",
       "      <td>1.32</td>\n",
       "    </tr>\n",
       "  </tbody>\n",
       "</table>\n",
       "</div>"
      ],
      "text/plain": [
       "            date  FXUSDCAD\n",
       "index                     \n",
       "0     2017-01-03      1.34\n",
       "1     2017-01-04      1.33\n",
       "2     2017-01-05      1.32\n",
       "3     2017-01-06      1.32\n",
       "4     2017-01-09      1.32"
      ]
     },
     "execution_count": 29,
     "metadata": {},
     "output_type": "execute_result"
    }
   ],
   "source": [
    "dailyfx.head()"
   ]
  },
  {
   "cell_type": "code",
   "execution_count": 30,
   "metadata": {},
   "outputs": [],
   "source": [
    "monthlyfx = pd.read_sql_query('SELECT * FROM Monthlyfx', db , index_col='index', parse_dates='date')"
   ]
  },
  {
   "cell_type": "code",
   "execution_count": 31,
   "metadata": {},
   "outputs": [
    {
     "data": {
      "text/html": [
       "<div>\n",
       "<style scoped>\n",
       "    .dataframe tbody tr th:only-of-type {\n",
       "        vertical-align: middle;\n",
       "    }\n",
       "\n",
       "    .dataframe tbody tr th {\n",
       "        vertical-align: top;\n",
       "    }\n",
       "\n",
       "    .dataframe thead th {\n",
       "        text-align: right;\n",
       "    }\n",
       "</style>\n",
       "<table border=\"1\" class=\"dataframe\">\n",
       "  <thead>\n",
       "    <tr style=\"text-align: right;\">\n",
       "      <th></th>\n",
       "      <th>date</th>\n",
       "      <th>FXUSDCAD</th>\n",
       "    </tr>\n",
       "    <tr>\n",
       "      <th>index</th>\n",
       "      <th></th>\n",
       "      <th></th>\n",
       "    </tr>\n",
       "  </thead>\n",
       "  <tbody>\n",
       "    <tr>\n",
       "      <th>0</th>\n",
       "      <td>2017-01-01</td>\n",
       "      <td>1.32</td>\n",
       "    </tr>\n",
       "    <tr>\n",
       "      <th>1</th>\n",
       "      <td>2017-02-01</td>\n",
       "      <td>1.31</td>\n",
       "    </tr>\n",
       "    <tr>\n",
       "      <th>2</th>\n",
       "      <td>2017-03-01</td>\n",
       "      <td>1.34</td>\n",
       "    </tr>\n",
       "    <tr>\n",
       "      <th>3</th>\n",
       "      <td>2017-04-01</td>\n",
       "      <td>1.34</td>\n",
       "    </tr>\n",
       "    <tr>\n",
       "      <th>4</th>\n",
       "      <td>2017-05-01</td>\n",
       "      <td>1.36</td>\n",
       "    </tr>\n",
       "  </tbody>\n",
       "</table>\n",
       "</div>"
      ],
      "text/plain": [
       "            date  FXUSDCAD\n",
       "index                     \n",
       "0     2017-01-01      1.32\n",
       "1     2017-02-01      1.31\n",
       "2     2017-03-01      1.34\n",
       "3     2017-04-01      1.34\n",
       "4     2017-05-01      1.36"
      ]
     },
     "execution_count": 31,
     "metadata": {},
     "output_type": "execute_result"
    }
   ],
   "source": [
    "monthlyfx.head()"
   ]
  },
  {
   "cell_type": "code",
   "execution_count": null,
   "metadata": {},
   "outputs": [],
   "source": []
  },
  {
   "cell_type": "code",
   "execution_count": null,
   "metadata": {},
   "outputs": [],
   "source": []
  },
  {
   "cell_type": "code",
   "execution_count": null,
   "metadata": {},
   "outputs": [],
   "source": []
  },
  {
   "cell_type": "code",
   "execution_count": null,
   "metadata": {},
   "outputs": [],
   "source": []
  },
  {
   "cell_type": "code",
   "execution_count": null,
   "metadata": {},
   "outputs": [],
   "source": []
  },
  {
   "cell_type": "code",
   "execution_count": null,
   "metadata": {},
   "outputs": [],
   "source": [
    "canola = farmprice[farmprice[\"cropType\"] == \"Canola\"]"
   ]
  },
  {
   "cell_type": "code",
   "execution_count": null,
   "metadata": {},
   "outputs": [],
   "source": [
    "canola"
   ]
  },
  {
   "cell_type": "code",
   "execution_count": null,
   "metadata": {},
   "outputs": [],
   "source": [
    "canolasas = canola[canola[\"GEO\"] == \"Saskatchewan\"]"
   ]
  },
  {
   "cell_type": "code",
   "execution_count": null,
   "metadata": {},
   "outputs": [],
   "source": [
    "canolasas"
   ]
  },
  {
   "cell_type": "code",
   "execution_count": null,
   "metadata": {},
   "outputs": [],
   "source": [
    "canolasas2020 = canolasas[canolasas[\"year\"] == 2020]"
   ]
  },
  {
   "cell_type": "code",
   "execution_count": null,
   "metadata": {},
   "outputs": [],
   "source": [
    "canolasas2020"
   ]
  },
  {
   "cell_type": "code",
   "execution_count": null,
   "metadata": {},
   "outputs": [],
   "source": [
    "df = pd.merge(left=canolasas2020, right=monthlyfx, on=\"date\", how=\"inner\")"
   ]
  },
  {
   "cell_type": "code",
   "execution_count": null,
   "metadata": {},
   "outputs": [],
   "source": [
    "df"
   ]
  },
  {
   "cell_type": "code",
   "execution_count": null,
   "metadata": {},
   "outputs": [],
   "source": [
    "df[\"CAD\"] = df[\"pricePerMT\"] * 1.00"
   ]
  },
  {
   "cell_type": "code",
   "execution_count": null,
   "metadata": {},
   "outputs": [],
   "source": [
    "df[\"USD\"] = df[\"CAD\"] / df[\"FXUSDCAD\"]"
   ]
  },
  {
   "cell_type": "code",
   "execution_count": null,
   "metadata": {},
   "outputs": [],
   "source": [
    "df.tail(6)"
   ]
  },
  {
   "cell_type": "code",
   "execution_count": null,
   "metadata": {},
   "outputs": [],
   "source": [
    "db.close() ### Close connection"
   ]
  },
  {
   "cell_type": "markdown",
   "metadata": {},
   "source": [
    "## Author(s)\n",
    "\n",
    "<h4> Jeff Grossman </h4>\n",
    "\n",
    "## Contributor(s)\n",
    "\n",
    "<h4> Rav Ahuja </h4>\n",
    "\n",
    "## Change log\n",
    "\n",
    "| Date       | Version | Changed by    | Change Description                                                                                         |\n",
    "| ---------- | ------- | ------------- | ---------------------------------------------------------------------------------------------------------- |\n",
    "| 2021-04-01 | 0.7     | Jeff Grossman | Split Problem 1 solution cell into multiple cells, fixed minor bugs                                        |\n",
    "| 2021-03-12 | 0.6     | Jeff Grossman | Cleaned up content for production                                                                          |\n",
    "| 2021-03-11 | 0.5     | Jeff Grossman | Moved more advanced problems to optional honours module                                                    |\n",
    "| 2021-03-10 | 0.4     | Jeff Grossman | Added introductory and intermediate level problems and removed some advanced problems                      |\n",
    "| 2021-03-04 | 0.3     | Jeff Grossman | Moved some problems to a new practice lab as prep for this assignment                                      |\n",
    "| 2021-03-04 | 0.2     | Jeff Grossman | Sorted problems roughly by level of difficulty and relegated more advanced ones to ungraded bonus problems |\n",
    "| 2021-02-20 | 0.1     | Jeff Grossman | Started content creation                                                                                   |\n",
    "\n",
    "## <h3 align=\"center\"> © IBM Corporation 2021. All rights reserved. <h3/>\n"
   ]
  }
 ],
 "metadata": {
  "kernelspec": {
   "display_name": "Python 3",
   "language": "python",
   "name": "python3"
  },
  "language_info": {
   "codemirror_mode": {
    "name": "ipython",
    "version": 3
   },
   "file_extension": ".py",
   "mimetype": "text/x-python",
   "name": "python",
   "nbconvert_exporter": "python",
   "pygments_lexer": "ipython3",
   "version": "3.8.5"
  },
  "widgets": {
   "state": {},
   "version": "1.1.2"
  }
 },
 "nbformat": 4,
 "nbformat_minor": 4
}
