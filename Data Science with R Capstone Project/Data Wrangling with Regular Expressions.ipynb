{
 "cells": [
  {
   "cell_type": "markdown",
   "metadata": {},
   "source": [
    "## Data Wrangling with Regular Expressions"
   ]
  },
  {
   "cell_type": "markdown",
   "metadata": {},
   "source": [
    "***"
   ]
  },
  {
   "cell_type": "markdown",
   "metadata": {},
   "source": [
    "## Import Libraries"
   ]
  },
  {
   "cell_type": "code",
   "execution_count": 1,
   "metadata": {},
   "outputs": [
    {
     "data": {
      "application/javascript": [
       "IPython.notebook.set_autosave_interval(60000)"
      ]
     },
     "metadata": {},
     "output_type": "display_data"
    },
    {
     "name": "stdout",
     "output_type": "stream",
     "text": [
      "Autosaving every 60 seconds\n"
     ]
    }
   ],
   "source": [
    "import numpy as np\n",
    "import pandas as pd\n",
    "import matplotlib.pyplot as plt\n",
    "import seaborn as sns\n",
    "import random\n",
    "\n",
    "%matplotlib inline\n",
    "#sets the default autosave frequency in seconds\n",
    "%autosave 60 \n",
    "sns.set_style('dark')\n",
    "sns.set(font_scale=1.2)\n",
    "\n",
    "plt.rc('axes', titlesize=9)\n",
    "plt.rc('axes', labelsize=14)\n",
    "plt.rc('xtick', labelsize=12)\n",
    "plt.rc('ytick', labelsize=12)\n",
    "\n",
    "import warnings\n",
    "warnings.filterwarnings('ignore')\n",
    "\n",
    "import re\n",
    "import string\n",
    "\n",
    "pd.set_option('display.max_columns',None)\n",
    "#pd.set_option('display.max_rows',None)\n",
    "pd.set_option('display.width', 1000)\n",
    "pd.set_option('display.float_format','{:.2f}'.format)\n",
    "\n",
    "random.seed(0)\n",
    "np.random.seed(0)\n",
    "np.set_printoptions(suppress=True)"
   ]
  },
  {
   "cell_type": "markdown",
   "metadata": {},
   "source": [
    "## Exploratory Data Analysis"
   ]
  },
  {
   "cell_type": "code",
   "execution_count": 2,
   "metadata": {},
   "outputs": [],
   "source": [
    "df = pd.read_csv(\"raw_bike_sharing_systems.csv\")"
   ]
  },
  {
   "cell_type": "code",
   "execution_count": 3,
   "metadata": {},
   "outputs": [
    {
     "data": {
      "text/html": [
       "<div>\n",
       "<style scoped>\n",
       "    .dataframe tbody tr th:only-of-type {\n",
       "        vertical-align: middle;\n",
       "    }\n",
       "\n",
       "    .dataframe tbody tr th {\n",
       "        vertical-align: top;\n",
       "    }\n",
       "\n",
       "    .dataframe thead th {\n",
       "        text-align: right;\n",
       "    }\n",
       "</style>\n",
       "<table border=\"1\" class=\"dataframe\">\n",
       "  <thead>\n",
       "    <tr style=\"text-align: right;\">\n",
       "      <th></th>\n",
       "      <th>Country</th>\n",
       "      <th>City</th>\n",
       "      <th>Name</th>\n",
       "      <th>System</th>\n",
       "      <th>Operator</th>\n",
       "      <th>Launched</th>\n",
       "      <th>Discontinued</th>\n",
       "      <th>Stations</th>\n",
       "      <th>Bicycles</th>\n",
       "      <th>Daily ridership</th>\n",
       "    </tr>\n",
       "  </thead>\n",
       "  <tbody>\n",
       "    <tr>\n",
       "      <th>0</th>\n",
       "      <td>Albania</td>\n",
       "      <td>Tirana[5]</td>\n",
       "      <td>Ecovolis</td>\n",
       "      <td>NaN</td>\n",
       "      <td>NaN</td>\n",
       "      <td>March 2011</td>\n",
       "      <td>NaN</td>\n",
       "      <td>8</td>\n",
       "      <td>200</td>\n",
       "      <td>NaN</td>\n",
       "    </tr>\n",
       "    <tr>\n",
       "      <th>1</th>\n",
       "      <td>Argentina</td>\n",
       "      <td>Mendoza[6]</td>\n",
       "      <td>Metrobici</td>\n",
       "      <td>NaN</td>\n",
       "      <td>NaN</td>\n",
       "      <td>2014</td>\n",
       "      <td>NaN</td>\n",
       "      <td>2</td>\n",
       "      <td>40</td>\n",
       "      <td>NaN</td>\n",
       "    </tr>\n",
       "    <tr>\n",
       "      <th>2</th>\n",
       "      <td>Argentina</td>\n",
       "      <td>San Lorenzo, Santa Fe</td>\n",
       "      <td>Biciudad</td>\n",
       "      <td>Biciudad</td>\n",
       "      <td>NaN</td>\n",
       "      <td>27 November 2016</td>\n",
       "      <td>NaN</td>\n",
       "      <td>8</td>\n",
       "      <td>80</td>\n",
       "      <td>NaN</td>\n",
       "    </tr>\n",
       "    <tr>\n",
       "      <th>3</th>\n",
       "      <td>Argentina</td>\n",
       "      <td>Buenos Aires[7][8]</td>\n",
       "      <td>Ecobici</td>\n",
       "      <td>Serttel Brasil[9]</td>\n",
       "      <td>Bike In Baires Consortium.[10]</td>\n",
       "      <td>2010</td>\n",
       "      <td>NaN</td>\n",
       "      <td>400</td>\n",
       "      <td>4000</td>\n",
       "      <td>21917</td>\n",
       "    </tr>\n",
       "    <tr>\n",
       "      <th>4</th>\n",
       "      <td>Argentina</td>\n",
       "      <td>Rosario</td>\n",
       "      <td>Mi Bici Tu Bici[11]</td>\n",
       "      <td>NaN</td>\n",
       "      <td>NaN</td>\n",
       "      <td>2 December 2015</td>\n",
       "      <td>NaN</td>\n",
       "      <td>47</td>\n",
       "      <td>480</td>\n",
       "      <td>NaN</td>\n",
       "    </tr>\n",
       "    <tr>\n",
       "      <th>...</th>\n",
       "      <td>...</td>\n",
       "      <td>...</td>\n",
       "      <td>...</td>\n",
       "      <td>...</td>\n",
       "      <td>...</td>\n",
       "      <td>...</td>\n",
       "      <td>...</td>\n",
       "      <td>...</td>\n",
       "      <td>...</td>\n",
       "      <td>...</td>\n",
       "    </tr>\n",
       "    <tr>\n",
       "      <th>479</th>\n",
       "      <td>United States</td>\n",
       "      <td>Santa Monica, California[315]</td>\n",
       "      <td>Breeze Bike Share</td>\n",
       "      <td>3 Gen. CycleHop and Social Bicycles</td>\n",
       "      <td>NaN</td>\n",
       "      <td>13 August 2015</td>\n",
       "      <td>NaN</td>\n",
       "      <td>80</td>\n",
       "      <td>500</td>\n",
       "      <td>NaN</td>\n",
       "    </tr>\n",
       "    <tr>\n",
       "      <th>480</th>\n",
       "      <td>United States</td>\n",
       "      <td>Savannah, Georgia[316]</td>\n",
       "      <td>CAT Bike</td>\n",
       "      <td>3 Gen. B-Cycle</td>\n",
       "      <td>NaN</td>\n",
       "      <td>24 January 2014</td>\n",
       "      <td>NaN</td>\n",
       "      <td>2</td>\n",
       "      <td>16</td>\n",
       "      <td>NaN</td>\n",
       "    </tr>\n",
       "    <tr>\n",
       "      <th>481</th>\n",
       "      <td>United States</td>\n",
       "      <td>Seattle, Washington[317]</td>\n",
       "      <td>Pronto Cycle Share</td>\n",
       "      <td>8D</td>\n",
       "      <td>Motivate</td>\n",
       "      <td>13 October 2014</td>\n",
       "      <td>31 March 2017</td>\n",
       "      <td>50</td>\n",
       "      <td>500</td>\n",
       "      <td>NaN</td>\n",
       "    </tr>\n",
       "    <tr>\n",
       "      <th>482</th>\n",
       "      <td>United States</td>\n",
       "      <td>Spartanburg, South Carolina[318]</td>\n",
       "      <td>Spartanburg B-Cycle</td>\n",
       "      <td>3 Gen. B-Cycle</td>\n",
       "      <td>NaN</td>\n",
       "      <td>2011</td>\n",
       "      <td>NaN</td>\n",
       "      <td>5</td>\n",
       "      <td>40</td>\n",
       "      <td>NaN</td>\n",
       "    </tr>\n",
       "    <tr>\n",
       "      <th>483</th>\n",
       "      <td>United States</td>\n",
       "      <td>St. Paul</td>\n",
       "      <td>Yellow Bike Project</td>\n",
       "      <td>1 Gen. w/ BikeCard</td>\n",
       "      <td>volunteers and city council</td>\n",
       "      <td>1997</td>\n",
       "      <td>NaN</td>\n",
       "      <td>NaN</td>\n",
       "      <td>NaN</td>\n",
       "      <td>NaN</td>\n",
       "    </tr>\n",
       "  </tbody>\n",
       "</table>\n",
       "<p>484 rows × 10 columns</p>\n",
       "</div>"
      ],
      "text/plain": [
       "           Country                              City                 Name                               System                        Operator          Launched   Discontinued Stations Bicycles Daily ridership\n",
       "0          Albania                         Tirana[5]             Ecovolis                                  NaN                             NaN        March 2011            NaN        8      200             NaN\n",
       "1        Argentina                        Mendoza[6]            Metrobici                                  NaN                             NaN              2014            NaN        2       40             NaN\n",
       "2        Argentina             San Lorenzo, Santa Fe             Biciudad                             Biciudad                             NaN  27 November 2016            NaN        8       80             NaN\n",
       "3        Argentina                Buenos Aires[7][8]              Ecobici                    Serttel Brasil[9]  Bike In Baires Consortium.[10]              2010            NaN      400     4000           21917\n",
       "4        Argentina                           Rosario  Mi Bici Tu Bici[11]                                  NaN                             NaN   2 December 2015            NaN       47      480             NaN\n",
       "..             ...                               ...                  ...                                  ...                             ...               ...            ...      ...      ...             ...\n",
       "479  United States     Santa Monica, California[315]    Breeze Bike Share  3 Gen. CycleHop and Social Bicycles                             NaN    13 August 2015            NaN       80      500             NaN\n",
       "480  United States            Savannah, Georgia[316]             CAT Bike                       3 Gen. B-Cycle                             NaN   24 January 2014            NaN        2       16             NaN\n",
       "481  United States          Seattle, Washington[317]   Pronto Cycle Share                                   8D                        Motivate   13 October 2014  31 March 2017       50      500             NaN\n",
       "482  United States  Spartanburg, South Carolina[318]  Spartanburg B-Cycle                       3 Gen. B-Cycle                             NaN              2011            NaN        5       40             NaN\n",
       "483  United States                          St. Paul  Yellow Bike Project                   1 Gen. w/ BikeCard     volunteers and city council              1997            NaN      NaN      NaN             NaN\n",
       "\n",
       "[484 rows x 10 columns]"
      ]
     },
     "execution_count": 3,
     "metadata": {},
     "output_type": "execute_result"
    }
   ],
   "source": [
    "df"
   ]
  },
  {
   "cell_type": "code",
   "execution_count": 4,
   "metadata": {},
   "outputs": [
    {
     "name": "stdout",
     "output_type": "stream",
     "text": [
      "<class 'pandas.core.frame.DataFrame'>\n",
      "RangeIndex: 484 entries, 0 to 483\n",
      "Data columns (total 10 columns):\n",
      " #   Column           Non-Null Count  Dtype \n",
      "---  ------           --------------  ----- \n",
      " 0   Country          484 non-null    object\n",
      " 1   City             484 non-null    object\n",
      " 2   Name             442 non-null    object\n",
      " 3   System           341 non-null    object\n",
      " 4   Operator         82 non-null     object\n",
      " 5   Launched         453 non-null    object\n",
      " 6   Discontinued     28 non-null     object\n",
      " 7   Stations         408 non-null    object\n",
      " 8   Bicycles         408 non-null    object\n",
      " 9   Daily ridership  23 non-null     object\n",
      "dtypes: object(10)\n",
      "memory usage: 37.9+ KB\n"
     ]
    }
   ],
   "source": [
    "df.info()"
   ]
  },
  {
   "cell_type": "code",
   "execution_count": 5,
   "metadata": {},
   "outputs": [
    {
     "data": {
      "text/html": [
       "<div>\n",
       "<style scoped>\n",
       "    .dataframe tbody tr th:only-of-type {\n",
       "        vertical-align: middle;\n",
       "    }\n",
       "\n",
       "    .dataframe tbody tr th {\n",
       "        vertical-align: top;\n",
       "    }\n",
       "\n",
       "    .dataframe thead th {\n",
       "        text-align: right;\n",
       "    }\n",
       "</style>\n",
       "<table border=\"1\" class=\"dataframe\">\n",
       "  <thead>\n",
       "    <tr style=\"text-align: right;\">\n",
       "      <th></th>\n",
       "      <th>Country</th>\n",
       "      <th>City</th>\n",
       "      <th>Name</th>\n",
       "      <th>System</th>\n",
       "      <th>Operator</th>\n",
       "      <th>Launched</th>\n",
       "      <th>Discontinued</th>\n",
       "      <th>Stations</th>\n",
       "      <th>Bicycles</th>\n",
       "      <th>Daily ridership</th>\n",
       "    </tr>\n",
       "  </thead>\n",
       "  <tbody>\n",
       "    <tr>\n",
       "      <th>count</th>\n",
       "      <td>484</td>\n",
       "      <td>484</td>\n",
       "      <td>442</td>\n",
       "      <td>341</td>\n",
       "      <td>82</td>\n",
       "      <td>453</td>\n",
       "      <td>28</td>\n",
       "      <td>408</td>\n",
       "      <td>408</td>\n",
       "      <td>23</td>\n",
       "    </tr>\n",
       "    <tr>\n",
       "      <th>unique</th>\n",
       "      <td>57</td>\n",
       "      <td>444</td>\n",
       "      <td>325</td>\n",
       "      <td>92</td>\n",
       "      <td>43</td>\n",
       "      <td>248</td>\n",
       "      <td>24</td>\n",
       "      <td>168</td>\n",
       "      <td>189</td>\n",
       "      <td>23</td>\n",
       "    </tr>\n",
       "    <tr>\n",
       "      <th>top</th>\n",
       "      <td>Germany</td>\n",
       "      <td>Berlin</td>\n",
       "      <td>nextbike</td>\n",
       "      <td>3 Gen. nextbike</td>\n",
       "      <td>JCDecaux</td>\n",
       "      <td>2010</td>\n",
       "      <td>2016</td>\n",
       "      <td>dockless</td>\n",
       "      <td>500</td>\n",
       "      <td>150000 [100]</td>\n",
       "    </tr>\n",
       "    <tr>\n",
       "      <th>freq</th>\n",
       "      <td>63</td>\n",
       "      <td>9</td>\n",
       "      <td>24</td>\n",
       "      <td>61</td>\n",
       "      <td>16</td>\n",
       "      <td>30</td>\n",
       "      <td>3</td>\n",
       "      <td>21</td>\n",
       "      <td>18</td>\n",
       "      <td>1</td>\n",
       "    </tr>\n",
       "  </tbody>\n",
       "</table>\n",
       "</div>"
      ],
      "text/plain": [
       "        Country    City      Name           System  Operator Launched Discontinued  Stations Bicycles Daily ridership\n",
       "count       484     484       442              341        82      453           28       408      408              23\n",
       "unique       57     444       325               92        43      248           24       168      189              23\n",
       "top     Germany  Berlin  nextbike  3 Gen. nextbike  JCDecaux     2010         2016  dockless      500    150000 [100]\n",
       "freq         63       9        24               61        16       30            3        21       18               1"
      ]
     },
     "execution_count": 5,
     "metadata": {},
     "output_type": "execute_result"
    }
   ],
   "source": [
    "df.describe()"
   ]
  },
  {
   "cell_type": "code",
   "execution_count": 6,
   "metadata": {},
   "outputs": [
    {
     "data": {
      "text/plain": [
       "Index(['Country', 'City', 'Name', 'System', 'Operator', 'Launched', 'Discontinued', 'Stations', 'Bicycles', 'Daily ridership'], dtype='object')"
      ]
     },
     "execution_count": 6,
     "metadata": {},
     "output_type": "execute_result"
    }
   ],
   "source": [
    "df.columns"
   ]
  },
  {
   "cell_type": "code",
   "execution_count": 7,
   "metadata": {},
   "outputs": [],
   "source": [
    "df.columns = ['country', 'city', 'name', 'system', 'operator', 'launched', 'discontinued', 'stations', 'bicycles', 'daily_ridership']"
   ]
  },
  {
   "cell_type": "code",
   "execution_count": 8,
   "metadata": {},
   "outputs": [
    {
     "data": {
      "text/html": [
       "<div>\n",
       "<style scoped>\n",
       "    .dataframe tbody tr th:only-of-type {\n",
       "        vertical-align: middle;\n",
       "    }\n",
       "\n",
       "    .dataframe tbody tr th {\n",
       "        vertical-align: top;\n",
       "    }\n",
       "\n",
       "    .dataframe thead th {\n",
       "        text-align: right;\n",
       "    }\n",
       "</style>\n",
       "<table border=\"1\" class=\"dataframe\">\n",
       "  <thead>\n",
       "    <tr style=\"text-align: right;\">\n",
       "      <th></th>\n",
       "      <th>country</th>\n",
       "      <th>city</th>\n",
       "      <th>name</th>\n",
       "      <th>system</th>\n",
       "      <th>operator</th>\n",
       "      <th>launched</th>\n",
       "      <th>discontinued</th>\n",
       "      <th>stations</th>\n",
       "      <th>bicycles</th>\n",
       "      <th>daily_ridership</th>\n",
       "    </tr>\n",
       "  </thead>\n",
       "  <tbody>\n",
       "    <tr>\n",
       "      <th>0</th>\n",
       "      <td>Albania</td>\n",
       "      <td>Tirana[5]</td>\n",
       "      <td>Ecovolis</td>\n",
       "      <td>NaN</td>\n",
       "      <td>NaN</td>\n",
       "      <td>March 2011</td>\n",
       "      <td>NaN</td>\n",
       "      <td>8</td>\n",
       "      <td>200</td>\n",
       "      <td>NaN</td>\n",
       "    </tr>\n",
       "    <tr>\n",
       "      <th>1</th>\n",
       "      <td>Argentina</td>\n",
       "      <td>Mendoza[6]</td>\n",
       "      <td>Metrobici</td>\n",
       "      <td>NaN</td>\n",
       "      <td>NaN</td>\n",
       "      <td>2014</td>\n",
       "      <td>NaN</td>\n",
       "      <td>2</td>\n",
       "      <td>40</td>\n",
       "      <td>NaN</td>\n",
       "    </tr>\n",
       "    <tr>\n",
       "      <th>2</th>\n",
       "      <td>Argentina</td>\n",
       "      <td>San Lorenzo, Santa Fe</td>\n",
       "      <td>Biciudad</td>\n",
       "      <td>Biciudad</td>\n",
       "      <td>NaN</td>\n",
       "      <td>27 November 2016</td>\n",
       "      <td>NaN</td>\n",
       "      <td>8</td>\n",
       "      <td>80</td>\n",
       "      <td>NaN</td>\n",
       "    </tr>\n",
       "    <tr>\n",
       "      <th>3</th>\n",
       "      <td>Argentina</td>\n",
       "      <td>Buenos Aires[7][8]</td>\n",
       "      <td>Ecobici</td>\n",
       "      <td>Serttel Brasil[9]</td>\n",
       "      <td>Bike In Baires Consortium.[10]</td>\n",
       "      <td>2010</td>\n",
       "      <td>NaN</td>\n",
       "      <td>400</td>\n",
       "      <td>4000</td>\n",
       "      <td>21917</td>\n",
       "    </tr>\n",
       "    <tr>\n",
       "      <th>4</th>\n",
       "      <td>Argentina</td>\n",
       "      <td>Rosario</td>\n",
       "      <td>Mi Bici Tu Bici[11]</td>\n",
       "      <td>NaN</td>\n",
       "      <td>NaN</td>\n",
       "      <td>2 December 2015</td>\n",
       "      <td>NaN</td>\n",
       "      <td>47</td>\n",
       "      <td>480</td>\n",
       "      <td>NaN</td>\n",
       "    </tr>\n",
       "    <tr>\n",
       "      <th>...</th>\n",
       "      <td>...</td>\n",
       "      <td>...</td>\n",
       "      <td>...</td>\n",
       "      <td>...</td>\n",
       "      <td>...</td>\n",
       "      <td>...</td>\n",
       "      <td>...</td>\n",
       "      <td>...</td>\n",
       "      <td>...</td>\n",
       "      <td>...</td>\n",
       "    </tr>\n",
       "    <tr>\n",
       "      <th>479</th>\n",
       "      <td>United States</td>\n",
       "      <td>Santa Monica, California[315]</td>\n",
       "      <td>Breeze Bike Share</td>\n",
       "      <td>3 Gen. CycleHop and Social Bicycles</td>\n",
       "      <td>NaN</td>\n",
       "      <td>13 August 2015</td>\n",
       "      <td>NaN</td>\n",
       "      <td>80</td>\n",
       "      <td>500</td>\n",
       "      <td>NaN</td>\n",
       "    </tr>\n",
       "    <tr>\n",
       "      <th>480</th>\n",
       "      <td>United States</td>\n",
       "      <td>Savannah, Georgia[316]</td>\n",
       "      <td>CAT Bike</td>\n",
       "      <td>3 Gen. B-Cycle</td>\n",
       "      <td>NaN</td>\n",
       "      <td>24 January 2014</td>\n",
       "      <td>NaN</td>\n",
       "      <td>2</td>\n",
       "      <td>16</td>\n",
       "      <td>NaN</td>\n",
       "    </tr>\n",
       "    <tr>\n",
       "      <th>481</th>\n",
       "      <td>United States</td>\n",
       "      <td>Seattle, Washington[317]</td>\n",
       "      <td>Pronto Cycle Share</td>\n",
       "      <td>8D</td>\n",
       "      <td>Motivate</td>\n",
       "      <td>13 October 2014</td>\n",
       "      <td>31 March 2017</td>\n",
       "      <td>50</td>\n",
       "      <td>500</td>\n",
       "      <td>NaN</td>\n",
       "    </tr>\n",
       "    <tr>\n",
       "      <th>482</th>\n",
       "      <td>United States</td>\n",
       "      <td>Spartanburg, South Carolina[318]</td>\n",
       "      <td>Spartanburg B-Cycle</td>\n",
       "      <td>3 Gen. B-Cycle</td>\n",
       "      <td>NaN</td>\n",
       "      <td>2011</td>\n",
       "      <td>NaN</td>\n",
       "      <td>5</td>\n",
       "      <td>40</td>\n",
       "      <td>NaN</td>\n",
       "    </tr>\n",
       "    <tr>\n",
       "      <th>483</th>\n",
       "      <td>United States</td>\n",
       "      <td>St. Paul</td>\n",
       "      <td>Yellow Bike Project</td>\n",
       "      <td>1 Gen. w/ BikeCard</td>\n",
       "      <td>volunteers and city council</td>\n",
       "      <td>1997</td>\n",
       "      <td>NaN</td>\n",
       "      <td>NaN</td>\n",
       "      <td>NaN</td>\n",
       "      <td>NaN</td>\n",
       "    </tr>\n",
       "  </tbody>\n",
       "</table>\n",
       "<p>484 rows × 10 columns</p>\n",
       "</div>"
      ],
      "text/plain": [
       "           country                              city                 name                               system                        operator          launched   discontinued stations bicycles daily_ridership\n",
       "0          Albania                         Tirana[5]             Ecovolis                                  NaN                             NaN        March 2011            NaN        8      200             NaN\n",
       "1        Argentina                        Mendoza[6]            Metrobici                                  NaN                             NaN              2014            NaN        2       40             NaN\n",
       "2        Argentina             San Lorenzo, Santa Fe             Biciudad                             Biciudad                             NaN  27 November 2016            NaN        8       80             NaN\n",
       "3        Argentina                Buenos Aires[7][8]              Ecobici                    Serttel Brasil[9]  Bike In Baires Consortium.[10]              2010            NaN      400     4000           21917\n",
       "4        Argentina                           Rosario  Mi Bici Tu Bici[11]                                  NaN                             NaN   2 December 2015            NaN       47      480             NaN\n",
       "..             ...                               ...                  ...                                  ...                             ...               ...            ...      ...      ...             ...\n",
       "479  United States     Santa Monica, California[315]    Breeze Bike Share  3 Gen. CycleHop and Social Bicycles                             NaN    13 August 2015            NaN       80      500             NaN\n",
       "480  United States            Savannah, Georgia[316]             CAT Bike                       3 Gen. B-Cycle                             NaN   24 January 2014            NaN        2       16             NaN\n",
       "481  United States          Seattle, Washington[317]   Pronto Cycle Share                                   8D                        Motivate   13 October 2014  31 March 2017       50      500             NaN\n",
       "482  United States  Spartanburg, South Carolina[318]  Spartanburg B-Cycle                       3 Gen. B-Cycle                             NaN              2011            NaN        5       40             NaN\n",
       "483  United States                          St. Paul  Yellow Bike Project                   1 Gen. w/ BikeCard     volunteers and city council              1997            NaN      NaN      NaN             NaN\n",
       "\n",
       "[484 rows x 10 columns]"
      ]
     },
     "execution_count": 8,
     "metadata": {},
     "output_type": "execute_result"
    }
   ],
   "source": [
    "df"
   ]
  },
  {
   "cell_type": "markdown",
   "metadata": {},
   "source": [
    "### Replacing values"
   ]
  },
  {
   "cell_type": "code",
   "execution_count": 9,
   "metadata": {},
   "outputs": [
    {
     "data": {
      "text/plain": [
       "0                          Tirana\n",
       "1                         Mendoza\n",
       "2            San Lorenzo Santa Fe\n",
       "3                    Buenos Aires\n",
       "4                         Rosario\n",
       "                  ...            \n",
       "479       Santa Monica California\n",
       "480              Savannah Georgia\n",
       "481            Seattle Washington\n",
       "482    Spartanburg South Carolina\n",
       "483                       St Paul\n",
       "Name: city, Length: 484, dtype: object"
      ]
     },
     "execution_count": 9,
     "metadata": {},
     "output_type": "execute_result"
    }
   ],
   "source": [
    "df['city'] = df['city'].str.replace(r\"[^a-zA-Z ]\",\"\")\n",
    "df['city']"
   ]
  },
  {
   "cell_type": "code",
   "execution_count": null,
   "metadata": {},
   "outputs": [],
   "source": []
  },
  {
   "cell_type": "code",
   "execution_count": 10,
   "metadata": {},
   "outputs": [
    {
     "data": {
      "text/plain": [
       "0                 Ecovolis\n",
       "1                Metrobici\n",
       "2                 Biciudad\n",
       "3                  Ecobici\n",
       "4          Mi Bici Tu Bici\n",
       "              ...         \n",
       "479      Breeze Bike Share\n",
       "480               CAT Bike\n",
       "481     Pronto Cycle Share\n",
       "482     Spartanburg BCycle\n",
       "483    Yellow Bike Project\n",
       "Name: name, Length: 484, dtype: object"
      ]
     },
     "execution_count": 10,
     "metadata": {},
     "output_type": "execute_result"
    }
   ],
   "source": [
    "df['name'] = df['name'].str.replace(r\"[^a-zA-Z ]\",\"\")\n",
    "df['name']"
   ]
  },
  {
   "cell_type": "code",
   "execution_count": null,
   "metadata": {},
   "outputs": [],
   "source": []
  },
  {
   "cell_type": "code",
   "execution_count": 11,
   "metadata": {},
   "outputs": [
    {
     "data": {
      "text/plain": [
       "0                                    NaN\n",
       "1                                    NaN\n",
       "2                               Biciudad\n",
       "3                         Serttel Brasil\n",
       "4                                    NaN\n",
       "                     ...                \n",
       "479     Gen CycleHop and Social Bicycles\n",
       "480                           Gen BCycle\n",
       "481                                    D\n",
       "482                           Gen BCycle\n",
       "483                       Gen w BikeCard\n",
       "Name: system, Length: 484, dtype: object"
      ]
     },
     "execution_count": 11,
     "metadata": {},
     "output_type": "execute_result"
    }
   ],
   "source": [
    "df['system'] = df['system'].str.replace(r\"[^a-zA-Z ]\",\"\")\n",
    "df['system']"
   ]
  },
  {
   "cell_type": "code",
   "execution_count": null,
   "metadata": {},
   "outputs": [],
   "source": []
  },
  {
   "cell_type": "code",
   "execution_count": 12,
   "metadata": {},
   "outputs": [
    {
     "data": {
      "text/plain": [
       "0                              NaN\n",
       "1                              NaN\n",
       "2                              NaN\n",
       "3        Bike In Baires Consortium\n",
       "4                              NaN\n",
       "                  ...             \n",
       "479                            NaN\n",
       "480                            NaN\n",
       "481                       Motivate\n",
       "482                            NaN\n",
       "483    volunteers and city council\n",
       "Name: operator, Length: 484, dtype: object"
      ]
     },
     "execution_count": 12,
     "metadata": {},
     "output_type": "execute_result"
    }
   ],
   "source": [
    "df['operator'] = df['operator'].str.replace(r\"[^a-zA-Z ]\",\"\")\n",
    "df['operator']"
   ]
  },
  {
   "cell_type": "code",
   "execution_count": null,
   "metadata": {},
   "outputs": [],
   "source": []
  },
  {
   "cell_type": "code",
   "execution_count": 13,
   "metadata": {},
   "outputs": [
    {
     "data": {
      "text/plain": [
       "0          March \n",
       "1                \n",
       "2       November \n",
       "3                \n",
       "4       December \n",
       "          ...    \n",
       "479       August \n",
       "480      January \n",
       "481      October \n",
       "482              \n",
       "483              \n",
       "Name: launched, Length: 484, dtype: object"
      ]
     },
     "execution_count": 13,
     "metadata": {},
     "output_type": "execute_result"
    }
   ],
   "source": [
    "df['launched'] = df['launched'].str.replace(r\"[^a-zA-Z ]\",\"\")\n",
    "df['launched']"
   ]
  },
  {
   "cell_type": "code",
   "execution_count": null,
   "metadata": {},
   "outputs": [],
   "source": []
  },
  {
   "cell_type": "code",
   "execution_count": 14,
   "metadata": {},
   "outputs": [
    {
     "data": {
      "text/plain": [
       "0          NaN\n",
       "1          NaN\n",
       "2          NaN\n",
       "3          NaN\n",
       "4          NaN\n",
       "        ...   \n",
       "479        NaN\n",
       "480        NaN\n",
       "481     March \n",
       "482        NaN\n",
       "483        NaN\n",
       "Name: discontinued, Length: 484, dtype: object"
      ]
     },
     "execution_count": 14,
     "metadata": {},
     "output_type": "execute_result"
    }
   ],
   "source": [
    "df['discontinued'] = df['discontinued'].str.replace(r\"[^a-zA-Z ]\",\"\")\n",
    "df['discontinued']"
   ]
  },
  {
   "cell_type": "code",
   "execution_count": null,
   "metadata": {},
   "outputs": [],
   "source": []
  },
  {
   "cell_type": "code",
   "execution_count": 15,
   "metadata": {},
   "outputs": [
    {
     "data": {
      "text/plain": [
       "0        8\n",
       "1        2\n",
       "2        8\n",
       "3      400\n",
       "4       47\n",
       "      ... \n",
       "479     80\n",
       "480      2\n",
       "481     50\n",
       "482      5\n",
       "483    NaN\n",
       "Name: stations, Length: 484, dtype: object"
      ]
     },
     "execution_count": 15,
     "metadata": {},
     "output_type": "execute_result"
    }
   ],
   "source": [
    "df['stations'] = df['stations'].str.replace(r\"[^a-zA-Z0-9 ]\",\"\")\n",
    "df['stations']"
   ]
  },
  {
   "cell_type": "code",
   "execution_count": 16,
   "metadata": {},
   "outputs": [
    {
     "data": {
      "text/plain": [
       "0       200\n",
       "1        40\n",
       "2        80\n",
       "3      4000\n",
       "4       480\n",
       "       ... \n",
       "479     500\n",
       "480      16\n",
       "481     500\n",
       "482      40\n",
       "483     NaN\n",
       "Name: bicycles, Length: 484, dtype: object"
      ]
     },
     "execution_count": 16,
     "metadata": {},
     "output_type": "execute_result"
    }
   ],
   "source": [
    "df['bicycles'] = df['bicycles'].str.replace(r\"[^a-zA-Z0-9 ]\",\"\")\n",
    "df['bicycles']"
   ]
  },
  {
   "cell_type": "code",
   "execution_count": 17,
   "metadata": {},
   "outputs": [
    {
     "data": {
      "text/plain": [
       "0        NaN\n",
       "1        NaN\n",
       "2        NaN\n",
       "3      21917\n",
       "4        NaN\n",
       "       ...  \n",
       "479      NaN\n",
       "480      NaN\n",
       "481      NaN\n",
       "482      NaN\n",
       "483      NaN\n",
       "Name: daily_ridership, Length: 484, dtype: object"
      ]
     },
     "execution_count": 17,
     "metadata": {},
     "output_type": "execute_result"
    }
   ],
   "source": [
    "df['daily_ridership'] = df['daily_ridership'].str.replace(r\"[^a-zA-Z0-9 ]\",\"\")\n",
    "df['daily_ridership']"
   ]
  },
  {
   "cell_type": "code",
   "execution_count": 18,
   "metadata": {},
   "outputs": [
    {
     "data": {
      "text/html": [
       "<div>\n",
       "<style scoped>\n",
       "    .dataframe tbody tr th:only-of-type {\n",
       "        vertical-align: middle;\n",
       "    }\n",
       "\n",
       "    .dataframe tbody tr th {\n",
       "        vertical-align: top;\n",
       "    }\n",
       "\n",
       "    .dataframe thead th {\n",
       "        text-align: right;\n",
       "    }\n",
       "</style>\n",
       "<table border=\"1\" class=\"dataframe\">\n",
       "  <thead>\n",
       "    <tr style=\"text-align: right;\">\n",
       "      <th></th>\n",
       "      <th>country</th>\n",
       "      <th>city</th>\n",
       "      <th>name</th>\n",
       "      <th>system</th>\n",
       "      <th>operator</th>\n",
       "      <th>launched</th>\n",
       "      <th>discontinued</th>\n",
       "      <th>stations</th>\n",
       "      <th>bicycles</th>\n",
       "      <th>daily_ridership</th>\n",
       "    </tr>\n",
       "  </thead>\n",
       "  <tbody>\n",
       "    <tr>\n",
       "      <th>0</th>\n",
       "      <td>Albania</td>\n",
       "      <td>Tirana</td>\n",
       "      <td>Ecovolis</td>\n",
       "      <td>NaN</td>\n",
       "      <td>NaN</td>\n",
       "      <td>March</td>\n",
       "      <td>NaN</td>\n",
       "      <td>8</td>\n",
       "      <td>200</td>\n",
       "      <td>NaN</td>\n",
       "    </tr>\n",
       "    <tr>\n",
       "      <th>1</th>\n",
       "      <td>Argentina</td>\n",
       "      <td>Mendoza</td>\n",
       "      <td>Metrobici</td>\n",
       "      <td>NaN</td>\n",
       "      <td>NaN</td>\n",
       "      <td></td>\n",
       "      <td>NaN</td>\n",
       "      <td>2</td>\n",
       "      <td>40</td>\n",
       "      <td>NaN</td>\n",
       "    </tr>\n",
       "    <tr>\n",
       "      <th>2</th>\n",
       "      <td>Argentina</td>\n",
       "      <td>San Lorenzo Santa Fe</td>\n",
       "      <td>Biciudad</td>\n",
       "      <td>Biciudad</td>\n",
       "      <td>NaN</td>\n",
       "      <td>November</td>\n",
       "      <td>NaN</td>\n",
       "      <td>8</td>\n",
       "      <td>80</td>\n",
       "      <td>NaN</td>\n",
       "    </tr>\n",
       "    <tr>\n",
       "      <th>3</th>\n",
       "      <td>Argentina</td>\n",
       "      <td>Buenos Aires</td>\n",
       "      <td>Ecobici</td>\n",
       "      <td>Serttel Brasil</td>\n",
       "      <td>Bike In Baires Consortium</td>\n",
       "      <td></td>\n",
       "      <td>NaN</td>\n",
       "      <td>400</td>\n",
       "      <td>4000</td>\n",
       "      <td>21917</td>\n",
       "    </tr>\n",
       "    <tr>\n",
       "      <th>4</th>\n",
       "      <td>Argentina</td>\n",
       "      <td>Rosario</td>\n",
       "      <td>Mi Bici Tu Bici</td>\n",
       "      <td>NaN</td>\n",
       "      <td>NaN</td>\n",
       "      <td>December</td>\n",
       "      <td>NaN</td>\n",
       "      <td>47</td>\n",
       "      <td>480</td>\n",
       "      <td>NaN</td>\n",
       "    </tr>\n",
       "    <tr>\n",
       "      <th>...</th>\n",
       "      <td>...</td>\n",
       "      <td>...</td>\n",
       "      <td>...</td>\n",
       "      <td>...</td>\n",
       "      <td>...</td>\n",
       "      <td>...</td>\n",
       "      <td>...</td>\n",
       "      <td>...</td>\n",
       "      <td>...</td>\n",
       "      <td>...</td>\n",
       "    </tr>\n",
       "    <tr>\n",
       "      <th>479</th>\n",
       "      <td>United States</td>\n",
       "      <td>Santa Monica California</td>\n",
       "      <td>Breeze Bike Share</td>\n",
       "      <td>Gen CycleHop and Social Bicycles</td>\n",
       "      <td>NaN</td>\n",
       "      <td>August</td>\n",
       "      <td>NaN</td>\n",
       "      <td>80</td>\n",
       "      <td>500</td>\n",
       "      <td>NaN</td>\n",
       "    </tr>\n",
       "    <tr>\n",
       "      <th>480</th>\n",
       "      <td>United States</td>\n",
       "      <td>Savannah Georgia</td>\n",
       "      <td>CAT Bike</td>\n",
       "      <td>Gen BCycle</td>\n",
       "      <td>NaN</td>\n",
       "      <td>January</td>\n",
       "      <td>NaN</td>\n",
       "      <td>2</td>\n",
       "      <td>16</td>\n",
       "      <td>NaN</td>\n",
       "    </tr>\n",
       "    <tr>\n",
       "      <th>481</th>\n",
       "      <td>United States</td>\n",
       "      <td>Seattle Washington</td>\n",
       "      <td>Pronto Cycle Share</td>\n",
       "      <td>D</td>\n",
       "      <td>Motivate</td>\n",
       "      <td>October</td>\n",
       "      <td>March</td>\n",
       "      <td>50</td>\n",
       "      <td>500</td>\n",
       "      <td>NaN</td>\n",
       "    </tr>\n",
       "    <tr>\n",
       "      <th>482</th>\n",
       "      <td>United States</td>\n",
       "      <td>Spartanburg South Carolina</td>\n",
       "      <td>Spartanburg BCycle</td>\n",
       "      <td>Gen BCycle</td>\n",
       "      <td>NaN</td>\n",
       "      <td></td>\n",
       "      <td>NaN</td>\n",
       "      <td>5</td>\n",
       "      <td>40</td>\n",
       "      <td>NaN</td>\n",
       "    </tr>\n",
       "    <tr>\n",
       "      <th>483</th>\n",
       "      <td>United States</td>\n",
       "      <td>St Paul</td>\n",
       "      <td>Yellow Bike Project</td>\n",
       "      <td>Gen w BikeCard</td>\n",
       "      <td>volunteers and city council</td>\n",
       "      <td></td>\n",
       "      <td>NaN</td>\n",
       "      <td>NaN</td>\n",
       "      <td>NaN</td>\n",
       "      <td>NaN</td>\n",
       "    </tr>\n",
       "  </tbody>\n",
       "</table>\n",
       "<p>484 rows × 10 columns</p>\n",
       "</div>"
      ],
      "text/plain": [
       "           country                        city                 name                             system                     operator    launched discontinued stations bicycles daily_ridership\n",
       "0          Albania                      Tirana             Ecovolis                                NaN                          NaN      March           NaN        8      200             NaN\n",
       "1        Argentina                     Mendoza            Metrobici                                NaN                          NaN                      NaN        2       40             NaN\n",
       "2        Argentina        San Lorenzo Santa Fe             Biciudad                           Biciudad                          NaN   November           NaN        8       80             NaN\n",
       "3        Argentina                Buenos Aires              Ecobici                     Serttel Brasil    Bike In Baires Consortium                      NaN      400     4000           21917\n",
       "4        Argentina                     Rosario      Mi Bici Tu Bici                                NaN                          NaN   December           NaN       47      480             NaN\n",
       "..             ...                         ...                  ...                                ...                          ...         ...          ...      ...      ...             ...\n",
       "479  United States     Santa Monica California    Breeze Bike Share   Gen CycleHop and Social Bicycles                          NaN     August           NaN       80      500             NaN\n",
       "480  United States            Savannah Georgia             CAT Bike                         Gen BCycle                          NaN    January           NaN        2       16             NaN\n",
       "481  United States          Seattle Washington   Pronto Cycle Share                                  D                     Motivate    October        March        50      500             NaN\n",
       "482  United States  Spartanburg South Carolina   Spartanburg BCycle                         Gen BCycle                          NaN                      NaN        5       40             NaN\n",
       "483  United States                     St Paul  Yellow Bike Project                     Gen w BikeCard  volunteers and city council                      NaN      NaN      NaN             NaN\n",
       "\n",
       "[484 rows x 10 columns]"
      ]
     },
     "execution_count": 18,
     "metadata": {},
     "output_type": "execute_result"
    }
   ],
   "source": [
    "df"
   ]
  },
  {
   "cell_type": "markdown",
   "metadata": {},
   "source": [
    "### Save to CSV"
   ]
  },
  {
   "cell_type": "code",
   "execution_count": 19,
   "metadata": {},
   "outputs": [],
   "source": [
    "df.to_csv(\"bikesharing.csv\", index=False)"
   ]
  },
  {
   "cell_type": "markdown",
   "metadata": {},
   "source": [
    "#### Python code done by Dennis Lam"
   ]
  },
  {
   "cell_type": "code",
   "execution_count": null,
   "metadata": {},
   "outputs": [],
   "source": []
  }
 ],
 "metadata": {
  "kernelspec": {
   "display_name": "Python 3",
   "language": "python",
   "name": "python3"
  },
  "language_info": {
   "codemirror_mode": {
    "name": "ipython",
    "version": 3
   },
   "file_extension": ".py",
   "mimetype": "text/x-python",
   "name": "python",
   "nbconvert_exporter": "python",
   "pygments_lexer": "ipython3",
   "version": "3.8.5"
  }
 },
 "nbformat": 4,
 "nbformat_minor": 4
}
