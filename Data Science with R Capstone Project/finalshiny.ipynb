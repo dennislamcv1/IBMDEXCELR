{
 "cells": [
  {
   "cell_type": "code",
   "execution_count": 1,
   "metadata": {},
   "outputs": [],
   "source": [
    "import pandas as pd\n",
    "import streamlit as st\n",
    "import matplotlib.pyplot as plt\n",
    "import matplotlib.patches as mpatches\n",
    "import seaborn as sns\n",
    "\n"
   ]
  },
  {
   "cell_type": "code",
   "execution_count": 2,
   "metadata": {},
   "outputs": [
    {
     "name": "stderr",
     "output_type": "stream",
     "text": [
      "2021-06-04 07:58:58.034 WARNING root: \n",
      "  \u001b[33m\u001b[1mWarning:\u001b[0m to view this Streamlit app on a browser, run it with the following\n",
      "  command:\n",
      "\n",
      "    streamlit run C:\\ProgramData\\Anaconda3\\lib\\site-packages\\ipykernel_launcher.py [ARGUMENTS]\n"
     ]
    },
    {
     "data": {
      "text/plain": [
       "DeltaGenerator(_root_container=0, _provided_cursor=None, _parent=None, _block_type=None, _form_data=None)"
      ]
     },
     "execution_count": 2,
     "metadata": {},
     "output_type": "execute_result"
    }
   ],
   "source": [
    "st.title(\"Bike-Sharing Demand Prediction App\")"
   ]
  },
  {
   "cell_type": "code",
   "execution_count": 3,
   "metadata": {},
   "outputs": [],
   "source": [
    "df = pd.read_csv(\"seoul_bike_sharing_clean.csv\", parse_dates=[\"DATE\"])\n",
    "\n",
    "#df.head()"
   ]
  },
  {
   "cell_type": "code",
   "execution_count": 4,
   "metadata": {},
   "outputs": [],
   "source": [
    "# fig = plt.figure(figsize=(16,5))\n",
    "# sns.lineplot(x=\"DATE\",y=\"TEMPERATURE\", data=df)\n",
    "# plt.show()\n",
    "# st.pyplot(fig)"
   ]
  },
  {
   "cell_type": "code",
   "execution_count": 5,
   "metadata": {},
   "outputs": [],
   "source": [
    "# fig = plt.figure(figsize=(50,10))\n",
    "# sns.scatterplot(x=df.DATE,y=df.RENTED_BIKE_COUNT,data=df, estimator=None)\n",
    "# plt.title(\"Scatterplot\", fontsize=20)\n",
    "# plt.xticks(rotation=90, fontsize=10)\n",
    "# plt.xlabel(\"Dates\", fontsize=20)\n",
    "# plt.ylabel(\"Bike Counts\", fontsize=20)\n",
    "# plt.show()"
   ]
  },
  {
   "cell_type": "code",
   "execution_count": 6,
   "metadata": {},
   "outputs": [],
   "source": [
    "# fig = plt.figure(figsize=(16,5))\n",
    "\n",
    "# sns.regplot(x=\"HUMIDITY\", y=\"RENTED_BIKE_COUNT\", data=df)\n",
    "# plt.xlabel(\"Humidity\", fontsize=20)\n",
    "# plt.ylabel(\"Bike Counts\", fontsize=20)\n",
    "# plt.show()"
   ]
  },
  {
   "cell_type": "code",
   "execution_count": 7,
   "metadata": {},
   "outputs": [],
   "source": [
    "df2 = pd.read_csv(\"selected_cities.csv\")\n",
    "#df2.head()"
   ]
  },
  {
   "cell_type": "code",
   "execution_count": 8,
   "metadata": {},
   "outputs": [],
   "source": [
    "df3 = pd.read_csv(\"model.csv\")\n",
    "#df3[:5]"
   ]
  },
  {
   "cell_type": "code",
   "execution_count": 9,
   "metadata": {},
   "outputs": [],
   "source": [
    "st.header(\"Bike Sharing data\")\n",
    "st.write(df.head())"
   ]
  },
  {
   "cell_type": "code",
   "execution_count": 10,
   "metadata": {},
   "outputs": [],
   "source": [
    "st.header(\"Selected Cities Data\")\n",
    "st.write(df2.head())"
   ]
  },
  {
   "cell_type": "code",
   "execution_count": 11,
   "metadata": {},
   "outputs": [
    {
     "data": {
      "text/plain": [
       "'All'"
      ]
     },
     "execution_count": 11,
     "metadata": {},
     "output_type": "execute_result"
    }
   ],
   "source": [
    "city = ['All','New York', 'Paris', 'Suzhou', 'London']\n",
    "\n",
    "st.selectbox(\"City:\", options=city)"
   ]
  },
  {
   "cell_type": "code",
   "execution_count": 12,
   "metadata": {},
   "outputs": [
    {
     "data": {
      "text/plain": [
       "DeltaGenerator(_root_container=0, _provided_cursor=None, _parent=None, _block_type=None, _form_data=None)"
      ]
     },
     "execution_count": 12,
     "metadata": {},
     "output_type": "execute_result"
    }
   ],
   "source": [
    "st.map(df2)"
   ]
  },
  {
   "cell_type": "code",
   "execution_count": 13,
   "metadata": {},
   "outputs": [],
   "source": [
    "st.write(\"**Select a button**\")\n",
    "\n",
    "page_names = ['Basic max bike prediction','A static temperature trend line','An interactive bike-sharing demand prediction trend line','A static humidity and bike-sharing demand prediction correlation plot']\n",
    "\n",
    "page = st.radio(\"Selections\", page_names)\n",
    "\n",
    "if  page == 'Basic max bike prediction':\n",
    "    st.subheader('Basic max bike prediction')\n",
    "    st.dataframe(df3[:5])\n",
    "elif page == 'A static temperature trend line':\n",
    "    st.subheader('A static temperature trend line')\n",
    "    \n",
    "    fig = plt.figure(figsize=(16,5))\n",
    "    sns.lineplot(x=\"DATE\",y=\"TEMPERATURE\", data=df)\n",
    "    plt.xlabel(\"Dates\")\n",
    "    plt.ylabel(\"Temperature\")\n",
    "    st.pyplot(fig)    \n",
    "elif page == 'An interactive bike-sharing demand prediction trend line':\n",
    "    st.subheader('An interactive bike-sharing demand prediction trend line')\n",
    "    \n",
    "    fig = plt.figure(figsize=(50,10))\n",
    "    sns.scatterplot(x=df.DATE,y=df.RENTED_BIKE_COUNT,data=df, estimator=None)\n",
    "    plt.title(\"Scatterplot\", fontsize=20)\n",
    "    plt.xticks(rotation=90, fontsize=10)\n",
    "    plt.xlabel(\"Dates\", fontsize=20)\n",
    "    plt.ylabel(\"Bike Counts\", fontsize=20)\n",
    "    st.pyplot(fig)\n",
    "else:\n",
    "    st.subheader('A static humidity and bike-sharing demand prediction correlation plot')\n",
    "    \n",
    "    fig = plt.figure(figsize=(16,5))\n",
    "    sns.regplot(x=\"HUMIDITY\", y=\"RENTED_BIKE_COUNT\", data=df)\n",
    "    plt.xlabel(\"Humidity\", fontsize=20)\n",
    "    plt.ylabel(\"Bike Counts\", fontsize=20)\n",
    "    st.pyplot(fig)"
   ]
  },
  {
   "cell_type": "code",
   "execution_count": null,
   "metadata": {},
   "outputs": [],
   "source": []
  },
  {
   "cell_type": "code",
   "execution_count": null,
   "metadata": {},
   "outputs": [],
   "source": []
  },
  {
   "cell_type": "code",
   "execution_count": null,
   "metadata": {},
   "outputs": [],
   "source": []
  }
 ],
 "metadata": {
  "kernelspec": {
   "display_name": "Python 3",
   "language": "python",
   "name": "python3"
  },
  "language_info": {
   "codemirror_mode": {
    "name": "ipython",
    "version": 3
   },
   "file_extension": ".py",
   "mimetype": "text/x-python",
   "name": "python",
   "nbconvert_exporter": "python",
   "pygments_lexer": "ipython3",
   "version": "3.8.5"
  }
 },
 "nbformat": 4,
 "nbformat_minor": 4
}
